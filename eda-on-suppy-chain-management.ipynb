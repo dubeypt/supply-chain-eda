{
 "cells": [
  {
   "cell_type": "code",
   "execution_count": 1,
   "id": "aad445f5",
   "metadata": {
    "_cell_guid": "b1076dfc-b9ad-4769-8c92-a6c4dae69d19",
    "_uuid": "8f2839f25d086af736a60e9eeb907d3b93b6e0e5",
    "execution": {
     "iopub.execute_input": "2025-09-27T09:51:00.787837Z",
     "iopub.status.busy": "2025-09-27T09:51:00.787410Z",
     "iopub.status.idle": "2025-09-27T09:51:02.825933Z",
     "shell.execute_reply": "2025-09-27T09:51:02.824526Z"
    },
    "papermill": {
     "duration": 2.051363,
     "end_time": "2025-09-27T09:51:02.827728",
     "exception": false,
     "start_time": "2025-09-27T09:51:00.776365",
     "status": "completed"
    },
    "tags": []
   },
   "outputs": [
    {
     "name": "stdout",
     "output_type": "stream",
     "text": [
      "/kaggle/input/supply-chain-analysis/supply_chain_data.csv\n"
     ]
    }
   ],
   "source": [
    "# This Python 3 environment comes with many helpful analytics libraries installed\n",
    "# It is defined by the kaggle/python Docker image: https://github.com/kaggle/docker-python\n",
    "# For example, here's several helpful packages to load\n",
    "\n",
    "import numpy as np # linear algebra\n",
    "import pandas as pd # data processing, CSV file I/O (e.g. pd.read_csv)\n",
    "\n",
    "# Input data files are available in the read-only \"../input/\" directory\n",
    "# For example, running this (by clicking run or pressing Shift+Enter) will list all files under the input directory\n",
    "\n",
    "import os\n",
    "for dirname, _, filenames in os.walk('/kaggle/input'):\n",
    "    for filename in filenames:\n",
    "        print(os.path.join(dirname, filename))\n",
    "\n",
    "# You can write up to 20GB to the current directory (/kaggle/working/) that gets preserved as output when you create a version using \"Save & Run All\" \n",
    "# You can also write temporary files to /kaggle/temp/, but they won't be saved outside of the current session"
   ]
  },
  {
   "cell_type": "code",
   "execution_count": 2,
   "id": "7f77767c",
   "metadata": {
    "execution": {
     "iopub.execute_input": "2025-09-27T09:51:02.847243Z",
     "iopub.status.busy": "2025-09-27T09:51:02.846806Z",
     "iopub.status.idle": "2025-09-27T09:51:04.833481Z",
     "shell.execute_reply": "2025-09-27T09:51:04.832543Z"
    },
    "papermill": {
     "duration": 1.998136,
     "end_time": "2025-09-27T09:51:04.835217",
     "exception": false,
     "start_time": "2025-09-27T09:51:02.837081",
     "status": "completed"
    },
    "tags": []
   },
   "outputs": [],
   "source": [
    "import matplotlib.pyplot as plt\n",
    "import seaborn as sns"
   ]
  },
  {
   "cell_type": "markdown",
   "id": "47c18315",
   "metadata": {
    "papermill": {
     "duration": 0.009003,
     "end_time": "2025-09-27T09:51:04.852701",
     "exception": false,
     "start_time": "2025-09-27T09:51:04.843698",
     "status": "completed"
    },
    "tags": []
   },
   "source": [
    "# Data Understanding."
   ]
  },
  {
   "cell_type": "code",
   "execution_count": 3,
   "id": "e20502d3",
   "metadata": {
    "execution": {
     "iopub.execute_input": "2025-09-27T09:51:04.871542Z",
     "iopub.status.busy": "2025-09-27T09:51:04.871056Z",
     "iopub.status.idle": "2025-09-27T09:51:04.926178Z",
     "shell.execute_reply": "2025-09-27T09:51:04.924971Z"
    },
    "papermill": {
     "duration": 0.067884,
     "end_time": "2025-09-27T09:51:04.928889",
     "exception": false,
     "start_time": "2025-09-27T09:51:04.861005",
     "status": "completed"
    },
    "tags": []
   },
   "outputs": [
    {
     "data": {
      "text/html": [
       "<div>\n",
       "<style scoped>\n",
       "    .dataframe tbody tr th:only-of-type {\n",
       "        vertical-align: middle;\n",
       "    }\n",
       "\n",
       "    .dataframe tbody tr th {\n",
       "        vertical-align: top;\n",
       "    }\n",
       "\n",
       "    .dataframe thead th {\n",
       "        text-align: right;\n",
       "    }\n",
       "</style>\n",
       "<table border=\"1\" class=\"dataframe\">\n",
       "  <thead>\n",
       "    <tr style=\"text-align: right;\">\n",
       "      <th></th>\n",
       "      <th>Product type</th>\n",
       "      <th>SKU</th>\n",
       "      <th>Price</th>\n",
       "      <th>Availability</th>\n",
       "      <th>Number of products sold</th>\n",
       "      <th>Revenue generated</th>\n",
       "      <th>Customer demographics</th>\n",
       "      <th>Stock levels</th>\n",
       "      <th>Lead times</th>\n",
       "      <th>Order quantities</th>\n",
       "      <th>...</th>\n",
       "      <th>Location</th>\n",
       "      <th>Lead time</th>\n",
       "      <th>Production volumes</th>\n",
       "      <th>Manufacturing lead time</th>\n",
       "      <th>Manufacturing costs</th>\n",
       "      <th>Inspection results</th>\n",
       "      <th>Defect rates</th>\n",
       "      <th>Transportation modes</th>\n",
       "      <th>Routes</th>\n",
       "      <th>Costs</th>\n",
       "    </tr>\n",
       "  </thead>\n",
       "  <tbody>\n",
       "    <tr>\n",
       "      <th>0</th>\n",
       "      <td>haircare</td>\n",
       "      <td>SKU0</td>\n",
       "      <td>69.808006</td>\n",
       "      <td>55</td>\n",
       "      <td>802</td>\n",
       "      <td>8661.996792</td>\n",
       "      <td>Non-binary</td>\n",
       "      <td>58</td>\n",
       "      <td>7</td>\n",
       "      <td>96</td>\n",
       "      <td>...</td>\n",
       "      <td>Mumbai</td>\n",
       "      <td>29</td>\n",
       "      <td>215</td>\n",
       "      <td>29</td>\n",
       "      <td>46.279879</td>\n",
       "      <td>Pending</td>\n",
       "      <td>0.226410</td>\n",
       "      <td>Road</td>\n",
       "      <td>Route B</td>\n",
       "      <td>187.752075</td>\n",
       "    </tr>\n",
       "    <tr>\n",
       "      <th>1</th>\n",
       "      <td>skincare</td>\n",
       "      <td>SKU1</td>\n",
       "      <td>14.843523</td>\n",
       "      <td>95</td>\n",
       "      <td>736</td>\n",
       "      <td>7460.900065</td>\n",
       "      <td>Female</td>\n",
       "      <td>53</td>\n",
       "      <td>30</td>\n",
       "      <td>37</td>\n",
       "      <td>...</td>\n",
       "      <td>Mumbai</td>\n",
       "      <td>23</td>\n",
       "      <td>517</td>\n",
       "      <td>30</td>\n",
       "      <td>33.616769</td>\n",
       "      <td>Pending</td>\n",
       "      <td>4.854068</td>\n",
       "      <td>Road</td>\n",
       "      <td>Route B</td>\n",
       "      <td>503.065579</td>\n",
       "    </tr>\n",
       "    <tr>\n",
       "      <th>2</th>\n",
       "      <td>haircare</td>\n",
       "      <td>SKU2</td>\n",
       "      <td>11.319683</td>\n",
       "      <td>34</td>\n",
       "      <td>8</td>\n",
       "      <td>9577.749626</td>\n",
       "      <td>Unknown</td>\n",
       "      <td>1</td>\n",
       "      <td>10</td>\n",
       "      <td>88</td>\n",
       "      <td>...</td>\n",
       "      <td>Mumbai</td>\n",
       "      <td>12</td>\n",
       "      <td>971</td>\n",
       "      <td>27</td>\n",
       "      <td>30.688019</td>\n",
       "      <td>Pending</td>\n",
       "      <td>4.580593</td>\n",
       "      <td>Air</td>\n",
       "      <td>Route C</td>\n",
       "      <td>141.920282</td>\n",
       "    </tr>\n",
       "    <tr>\n",
       "      <th>3</th>\n",
       "      <td>skincare</td>\n",
       "      <td>SKU3</td>\n",
       "      <td>61.163343</td>\n",
       "      <td>68</td>\n",
       "      <td>83</td>\n",
       "      <td>7766.836426</td>\n",
       "      <td>Non-binary</td>\n",
       "      <td>23</td>\n",
       "      <td>13</td>\n",
       "      <td>59</td>\n",
       "      <td>...</td>\n",
       "      <td>Kolkata</td>\n",
       "      <td>24</td>\n",
       "      <td>937</td>\n",
       "      <td>18</td>\n",
       "      <td>35.624741</td>\n",
       "      <td>Fail</td>\n",
       "      <td>4.746649</td>\n",
       "      <td>Rail</td>\n",
       "      <td>Route A</td>\n",
       "      <td>254.776159</td>\n",
       "    </tr>\n",
       "    <tr>\n",
       "      <th>4</th>\n",
       "      <td>skincare</td>\n",
       "      <td>SKU4</td>\n",
       "      <td>4.805496</td>\n",
       "      <td>26</td>\n",
       "      <td>871</td>\n",
       "      <td>2686.505152</td>\n",
       "      <td>Non-binary</td>\n",
       "      <td>5</td>\n",
       "      <td>3</td>\n",
       "      <td>56</td>\n",
       "      <td>...</td>\n",
       "      <td>Delhi</td>\n",
       "      <td>5</td>\n",
       "      <td>414</td>\n",
       "      <td>3</td>\n",
       "      <td>92.065161</td>\n",
       "      <td>Fail</td>\n",
       "      <td>3.145580</td>\n",
       "      <td>Air</td>\n",
       "      <td>Route A</td>\n",
       "      <td>923.440632</td>\n",
       "    </tr>\n",
       "  </tbody>\n",
       "</table>\n",
       "<p>5 rows × 24 columns</p>\n",
       "</div>"
      ],
      "text/plain": [
       "  Product type   SKU      Price  Availability  Number of products sold  \\\n",
       "0     haircare  SKU0  69.808006            55                      802   \n",
       "1     skincare  SKU1  14.843523            95                      736   \n",
       "2     haircare  SKU2  11.319683            34                        8   \n",
       "3     skincare  SKU3  61.163343            68                       83   \n",
       "4     skincare  SKU4   4.805496            26                      871   \n",
       "\n",
       "   Revenue generated Customer demographics  Stock levels  Lead times  \\\n",
       "0        8661.996792            Non-binary            58           7   \n",
       "1        7460.900065                Female            53          30   \n",
       "2        9577.749626               Unknown             1          10   \n",
       "3        7766.836426            Non-binary            23          13   \n",
       "4        2686.505152            Non-binary             5           3   \n",
       "\n",
       "   Order quantities  ...  Location Lead time  Production volumes  \\\n",
       "0                96  ...    Mumbai        29                 215   \n",
       "1                37  ...    Mumbai        23                 517   \n",
       "2                88  ...    Mumbai        12                 971   \n",
       "3                59  ...   Kolkata        24                 937   \n",
       "4                56  ...     Delhi         5                 414   \n",
       "\n",
       "  Manufacturing lead time Manufacturing costs  Inspection results  \\\n",
       "0                      29           46.279879             Pending   \n",
       "1                      30           33.616769             Pending   \n",
       "2                      27           30.688019             Pending   \n",
       "3                      18           35.624741                Fail   \n",
       "4                       3           92.065161                Fail   \n",
       "\n",
       "   Defect rates  Transportation modes   Routes       Costs  \n",
       "0      0.226410                  Road  Route B  187.752075  \n",
       "1      4.854068                  Road  Route B  503.065579  \n",
       "2      4.580593                   Air  Route C  141.920282  \n",
       "3      4.746649                  Rail  Route A  254.776159  \n",
       "4      3.145580                   Air  Route A  923.440632  \n",
       "\n",
       "[5 rows x 24 columns]"
      ]
     },
     "execution_count": 3,
     "metadata": {},
     "output_type": "execute_result"
    }
   ],
   "source": [
    "df=pd.read_csv('/kaggle/input/supply-chain-analysis/supply_chain_data.csv')\n",
    "df.head(5)"
   ]
  },
  {
   "cell_type": "code",
   "execution_count": 4,
   "id": "5515a655",
   "metadata": {
    "execution": {
     "iopub.execute_input": "2025-09-27T09:51:04.950352Z",
     "iopub.status.busy": "2025-09-27T09:51:04.950003Z",
     "iopub.status.idle": "2025-09-27T09:51:04.957799Z",
     "shell.execute_reply": "2025-09-27T09:51:04.956705Z"
    },
    "papermill": {
     "duration": 0.020351,
     "end_time": "2025-09-27T09:51:04.959502",
     "exception": false,
     "start_time": "2025-09-27T09:51:04.939151",
     "status": "completed"
    },
    "tags": []
   },
   "outputs": [
    {
     "data": {
      "text/plain": [
       "Index(['Product type', 'SKU', 'Price', 'Availability',\n",
       "       'Number of products sold', 'Revenue generated', 'Customer demographics',\n",
       "       'Stock levels', 'Lead times', 'Order quantities', 'Shipping times',\n",
       "       'Shipping carriers', 'Shipping costs', 'Supplier name', 'Location',\n",
       "       'Lead time', 'Production volumes', 'Manufacturing lead time',\n",
       "       'Manufacturing costs', 'Inspection results', 'Defect rates',\n",
       "       'Transportation modes', 'Routes', 'Costs'],\n",
       "      dtype='object')"
      ]
     },
     "execution_count": 4,
     "metadata": {},
     "output_type": "execute_result"
    }
   ],
   "source": [
    "df.columns"
   ]
  },
  {
   "cell_type": "code",
   "execution_count": 5,
   "id": "b2e81862",
   "metadata": {
    "execution": {
     "iopub.execute_input": "2025-09-27T09:51:04.979064Z",
     "iopub.status.busy": "2025-09-27T09:51:04.978730Z",
     "iopub.status.idle": "2025-09-27T09:51:04.985014Z",
     "shell.execute_reply": "2025-09-27T09:51:04.983929Z"
    },
    "papermill": {
     "duration": 0.017615,
     "end_time": "2025-09-27T09:51:04.986709",
     "exception": false,
     "start_time": "2025-09-27T09:51:04.969094",
     "status": "completed"
    },
    "tags": []
   },
   "outputs": [
    {
     "data": {
      "text/plain": [
       "(100, 24)"
      ]
     },
     "execution_count": 5,
     "metadata": {},
     "output_type": "execute_result"
    }
   ],
   "source": [
    "df.shape"
   ]
  },
  {
   "cell_type": "code",
   "execution_count": 6,
   "id": "3cc411eb",
   "metadata": {
    "execution": {
     "iopub.execute_input": "2025-09-27T09:51:05.006008Z",
     "iopub.status.busy": "2025-09-27T09:51:05.005681Z",
     "iopub.status.idle": "2025-09-27T09:51:05.028291Z",
     "shell.execute_reply": "2025-09-27T09:51:05.027241Z"
    },
    "papermill": {
     "duration": 0.034247,
     "end_time": "2025-09-27T09:51:05.029835",
     "exception": false,
     "start_time": "2025-09-27T09:51:04.995588",
     "status": "completed"
    },
    "tags": []
   },
   "outputs": [
    {
     "name": "stdout",
     "output_type": "stream",
     "text": [
      "<class 'pandas.core.frame.DataFrame'>\n",
      "RangeIndex: 100 entries, 0 to 99\n",
      "Data columns (total 24 columns):\n",
      " #   Column                   Non-Null Count  Dtype  \n",
      "---  ------                   --------------  -----  \n",
      " 0   Product type             100 non-null    object \n",
      " 1   SKU                      100 non-null    object \n",
      " 2   Price                    100 non-null    float64\n",
      " 3   Availability             100 non-null    int64  \n",
      " 4   Number of products sold  100 non-null    int64  \n",
      " 5   Revenue generated        100 non-null    float64\n",
      " 6   Customer demographics    100 non-null    object \n",
      " 7   Stock levels             100 non-null    int64  \n",
      " 8   Lead times               100 non-null    int64  \n",
      " 9   Order quantities         100 non-null    int64  \n",
      " 10  Shipping times           100 non-null    int64  \n",
      " 11  Shipping carriers        100 non-null    object \n",
      " 12  Shipping costs           100 non-null    float64\n",
      " 13  Supplier name            100 non-null    object \n",
      " 14  Location                 100 non-null    object \n",
      " 15  Lead time                100 non-null    int64  \n",
      " 16  Production volumes       100 non-null    int64  \n",
      " 17  Manufacturing lead time  100 non-null    int64  \n",
      " 18  Manufacturing costs      100 non-null    float64\n",
      " 19  Inspection results       100 non-null    object \n",
      " 20  Defect rates             100 non-null    float64\n",
      " 21  Transportation modes     100 non-null    object \n",
      " 22  Routes                   100 non-null    object \n",
      " 23  Costs                    100 non-null    float64\n",
      "dtypes: float64(6), int64(9), object(9)\n",
      "memory usage: 18.9+ KB\n"
     ]
    }
   ],
   "source": [
    "df.info()"
   ]
  },
  {
   "cell_type": "code",
   "execution_count": 7,
   "id": "ec83f47c",
   "metadata": {
    "execution": {
     "iopub.execute_input": "2025-09-27T09:51:05.049778Z",
     "iopub.status.busy": "2025-09-27T09:51:05.049435Z",
     "iopub.status.idle": "2025-09-27T09:51:05.097407Z",
     "shell.execute_reply": "2025-09-27T09:51:05.096476Z"
    },
    "papermill": {
     "duration": 0.059905,
     "end_time": "2025-09-27T09:51:05.099182",
     "exception": false,
     "start_time": "2025-09-27T09:51:05.039277",
     "status": "completed"
    },
    "tags": []
   },
   "outputs": [
    {
     "data": {
      "text/html": [
       "<div>\n",
       "<style scoped>\n",
       "    .dataframe tbody tr th:only-of-type {\n",
       "        vertical-align: middle;\n",
       "    }\n",
       "\n",
       "    .dataframe tbody tr th {\n",
       "        vertical-align: top;\n",
       "    }\n",
       "\n",
       "    .dataframe thead th {\n",
       "        text-align: right;\n",
       "    }\n",
       "</style>\n",
       "<table border=\"1\" class=\"dataframe\">\n",
       "  <thead>\n",
       "    <tr style=\"text-align: right;\">\n",
       "      <th></th>\n",
       "      <th>Price</th>\n",
       "      <th>Availability</th>\n",
       "      <th>Number of products sold</th>\n",
       "      <th>Revenue generated</th>\n",
       "      <th>Stock levels</th>\n",
       "      <th>Lead times</th>\n",
       "      <th>Order quantities</th>\n",
       "      <th>Shipping times</th>\n",
       "      <th>Shipping costs</th>\n",
       "      <th>Lead time</th>\n",
       "      <th>Production volumes</th>\n",
       "      <th>Manufacturing lead time</th>\n",
       "      <th>Manufacturing costs</th>\n",
       "      <th>Defect rates</th>\n",
       "      <th>Costs</th>\n",
       "    </tr>\n",
       "  </thead>\n",
       "  <tbody>\n",
       "    <tr>\n",
       "      <th>count</th>\n",
       "      <td>100.000000</td>\n",
       "      <td>100.000000</td>\n",
       "      <td>100.000000</td>\n",
       "      <td>100.000000</td>\n",
       "      <td>100.000000</td>\n",
       "      <td>100.000000</td>\n",
       "      <td>100.000000</td>\n",
       "      <td>100.000000</td>\n",
       "      <td>100.000000</td>\n",
       "      <td>100.000000</td>\n",
       "      <td>100.000000</td>\n",
       "      <td>100.00000</td>\n",
       "      <td>100.000000</td>\n",
       "      <td>100.000000</td>\n",
       "      <td>100.000000</td>\n",
       "    </tr>\n",
       "    <tr>\n",
       "      <th>mean</th>\n",
       "      <td>49.462461</td>\n",
       "      <td>48.400000</td>\n",
       "      <td>460.990000</td>\n",
       "      <td>5776.048187</td>\n",
       "      <td>47.770000</td>\n",
       "      <td>15.960000</td>\n",
       "      <td>49.220000</td>\n",
       "      <td>5.750000</td>\n",
       "      <td>5.548149</td>\n",
       "      <td>17.080000</td>\n",
       "      <td>567.840000</td>\n",
       "      <td>14.77000</td>\n",
       "      <td>47.266693</td>\n",
       "      <td>2.277158</td>\n",
       "      <td>529.245782</td>\n",
       "    </tr>\n",
       "    <tr>\n",
       "      <th>std</th>\n",
       "      <td>31.168193</td>\n",
       "      <td>30.743317</td>\n",
       "      <td>303.780074</td>\n",
       "      <td>2732.841744</td>\n",
       "      <td>31.369372</td>\n",
       "      <td>8.785801</td>\n",
       "      <td>26.784429</td>\n",
       "      <td>2.724283</td>\n",
       "      <td>2.651376</td>\n",
       "      <td>8.846251</td>\n",
       "      <td>263.046861</td>\n",
       "      <td>8.91243</td>\n",
       "      <td>28.982841</td>\n",
       "      <td>1.461366</td>\n",
       "      <td>258.301696</td>\n",
       "    </tr>\n",
       "    <tr>\n",
       "      <th>min</th>\n",
       "      <td>1.699976</td>\n",
       "      <td>1.000000</td>\n",
       "      <td>8.000000</td>\n",
       "      <td>1061.618523</td>\n",
       "      <td>0.000000</td>\n",
       "      <td>1.000000</td>\n",
       "      <td>1.000000</td>\n",
       "      <td>1.000000</td>\n",
       "      <td>1.013487</td>\n",
       "      <td>1.000000</td>\n",
       "      <td>104.000000</td>\n",
       "      <td>1.00000</td>\n",
       "      <td>1.085069</td>\n",
       "      <td>0.018608</td>\n",
       "      <td>103.916248</td>\n",
       "    </tr>\n",
       "    <tr>\n",
       "      <th>25%</th>\n",
       "      <td>19.597823</td>\n",
       "      <td>22.750000</td>\n",
       "      <td>184.250000</td>\n",
       "      <td>2812.847151</td>\n",
       "      <td>16.750000</td>\n",
       "      <td>8.000000</td>\n",
       "      <td>26.000000</td>\n",
       "      <td>3.750000</td>\n",
       "      <td>3.540248</td>\n",
       "      <td>10.000000</td>\n",
       "      <td>352.000000</td>\n",
       "      <td>7.00000</td>\n",
       "      <td>22.983299</td>\n",
       "      <td>1.009650</td>\n",
       "      <td>318.778455</td>\n",
       "    </tr>\n",
       "    <tr>\n",
       "      <th>50%</th>\n",
       "      <td>51.239831</td>\n",
       "      <td>43.500000</td>\n",
       "      <td>392.500000</td>\n",
       "      <td>6006.352023</td>\n",
       "      <td>47.500000</td>\n",
       "      <td>17.000000</td>\n",
       "      <td>52.000000</td>\n",
       "      <td>6.000000</td>\n",
       "      <td>5.320534</td>\n",
       "      <td>18.000000</td>\n",
       "      <td>568.500000</td>\n",
       "      <td>14.00000</td>\n",
       "      <td>45.905622</td>\n",
       "      <td>2.141863</td>\n",
       "      <td>520.430444</td>\n",
       "    </tr>\n",
       "    <tr>\n",
       "      <th>75%</th>\n",
       "      <td>77.198228</td>\n",
       "      <td>75.000000</td>\n",
       "      <td>704.250000</td>\n",
       "      <td>8253.976921</td>\n",
       "      <td>73.000000</td>\n",
       "      <td>24.000000</td>\n",
       "      <td>71.250000</td>\n",
       "      <td>8.000000</td>\n",
       "      <td>7.601695</td>\n",
       "      <td>25.000000</td>\n",
       "      <td>797.000000</td>\n",
       "      <td>23.00000</td>\n",
       "      <td>68.621026</td>\n",
       "      <td>3.563995</td>\n",
       "      <td>763.078231</td>\n",
       "    </tr>\n",
       "    <tr>\n",
       "      <th>max</th>\n",
       "      <td>99.171329</td>\n",
       "      <td>100.000000</td>\n",
       "      <td>996.000000</td>\n",
       "      <td>9866.465458</td>\n",
       "      <td>100.000000</td>\n",
       "      <td>30.000000</td>\n",
       "      <td>96.000000</td>\n",
       "      <td>10.000000</td>\n",
       "      <td>9.929816</td>\n",
       "      <td>30.000000</td>\n",
       "      <td>985.000000</td>\n",
       "      <td>30.00000</td>\n",
       "      <td>99.466109</td>\n",
       "      <td>4.939255</td>\n",
       "      <td>997.413450</td>\n",
       "    </tr>\n",
       "  </tbody>\n",
       "</table>\n",
       "</div>"
      ],
      "text/plain": [
       "            Price  Availability  Number of products sold  Revenue generated  \\\n",
       "count  100.000000    100.000000               100.000000         100.000000   \n",
       "mean    49.462461     48.400000               460.990000        5776.048187   \n",
       "std     31.168193     30.743317               303.780074        2732.841744   \n",
       "min      1.699976      1.000000                 8.000000        1061.618523   \n",
       "25%     19.597823     22.750000               184.250000        2812.847151   \n",
       "50%     51.239831     43.500000               392.500000        6006.352023   \n",
       "75%     77.198228     75.000000               704.250000        8253.976921   \n",
       "max     99.171329    100.000000               996.000000        9866.465458   \n",
       "\n",
       "       Stock levels  Lead times  Order quantities  Shipping times  \\\n",
       "count    100.000000  100.000000        100.000000      100.000000   \n",
       "mean      47.770000   15.960000         49.220000        5.750000   \n",
       "std       31.369372    8.785801         26.784429        2.724283   \n",
       "min        0.000000    1.000000          1.000000        1.000000   \n",
       "25%       16.750000    8.000000         26.000000        3.750000   \n",
       "50%       47.500000   17.000000         52.000000        6.000000   \n",
       "75%       73.000000   24.000000         71.250000        8.000000   \n",
       "max      100.000000   30.000000         96.000000       10.000000   \n",
       "\n",
       "       Shipping costs   Lead time  Production volumes  \\\n",
       "count      100.000000  100.000000          100.000000   \n",
       "mean         5.548149   17.080000          567.840000   \n",
       "std          2.651376    8.846251          263.046861   \n",
       "min          1.013487    1.000000          104.000000   \n",
       "25%          3.540248   10.000000          352.000000   \n",
       "50%          5.320534   18.000000          568.500000   \n",
       "75%          7.601695   25.000000          797.000000   \n",
       "max          9.929816   30.000000          985.000000   \n",
       "\n",
       "       Manufacturing lead time  Manufacturing costs  Defect rates       Costs  \n",
       "count                100.00000           100.000000    100.000000  100.000000  \n",
       "mean                  14.77000            47.266693      2.277158  529.245782  \n",
       "std                    8.91243            28.982841      1.461366  258.301696  \n",
       "min                    1.00000             1.085069      0.018608  103.916248  \n",
       "25%                    7.00000            22.983299      1.009650  318.778455  \n",
       "50%                   14.00000            45.905622      2.141863  520.430444  \n",
       "75%                   23.00000            68.621026      3.563995  763.078231  \n",
       "max                   30.00000            99.466109      4.939255  997.413450  "
      ]
     },
     "execution_count": 7,
     "metadata": {},
     "output_type": "execute_result"
    }
   ],
   "source": [
    "df.describe()"
   ]
  },
  {
   "cell_type": "markdown",
   "id": "600bb8d1",
   "metadata": {
    "papermill": {
     "duration": 0.009118,
     "end_time": "2025-09-27T09:51:05.118222",
     "exception": false,
     "start_time": "2025-09-27T09:51:05.109104",
     "status": "completed"
    },
    "tags": []
   },
   "source": [
    "# Data Cleaning And Unnderstanding "
   ]
  },
  {
   "cell_type": "code",
   "execution_count": 8,
   "id": "a042174b",
   "metadata": {
    "execution": {
     "iopub.execute_input": "2025-09-27T09:51:05.139092Z",
     "iopub.status.busy": "2025-09-27T09:51:05.138728Z",
     "iopub.status.idle": "2025-09-27T09:51:05.146703Z",
     "shell.execute_reply": "2025-09-27T09:51:05.145688Z"
    },
    "papermill": {
     "duration": 0.020187,
     "end_time": "2025-09-27T09:51:05.148107",
     "exception": false,
     "start_time": "2025-09-27T09:51:05.127920",
     "status": "completed"
    },
    "tags": []
   },
   "outputs": [
    {
     "data": {
      "text/plain": [
       "Product type               0\n",
       "SKU                        0\n",
       "Price                      0\n",
       "Availability               0\n",
       "Number of products sold    0\n",
       "Revenue generated          0\n",
       "Customer demographics      0\n",
       "Stock levels               0\n",
       "Lead times                 0\n",
       "Order quantities           0\n",
       "Shipping times             0\n",
       "Shipping carriers          0\n",
       "Shipping costs             0\n",
       "Supplier name              0\n",
       "Location                   0\n",
       "Lead time                  0\n",
       "Production volumes         0\n",
       "Manufacturing lead time    0\n",
       "Manufacturing costs        0\n",
       "Inspection results         0\n",
       "Defect rates               0\n",
       "Transportation modes       0\n",
       "Routes                     0\n",
       "Costs                      0\n",
       "dtype: int64"
      ]
     },
     "execution_count": 8,
     "metadata": {},
     "output_type": "execute_result"
    }
   ],
   "source": [
    "df.isnull().sum()"
   ]
  },
  {
   "cell_type": "markdown",
   "id": "5383f4c4",
   "metadata": {
    "papermill": {
     "duration": 0.008933,
     "end_time": "2025-09-27T09:51:05.166378",
     "exception": false,
     "start_time": "2025-09-27T09:51:05.157445",
     "status": "completed"
    },
    "tags": []
   },
   "source": [
    "**Removing Duplicates**"
   ]
  },
  {
   "cell_type": "code",
   "execution_count": 9,
   "id": "057b0830",
   "metadata": {
    "execution": {
     "iopub.execute_input": "2025-09-27T09:51:05.187958Z",
     "iopub.status.busy": "2025-09-27T09:51:05.187194Z",
     "iopub.status.idle": "2025-09-27T09:51:05.192486Z",
     "shell.execute_reply": "2025-09-27T09:51:05.191668Z"
    },
    "papermill": {
     "duration": 0.017978,
     "end_time": "2025-09-27T09:51:05.194043",
     "exception": false,
     "start_time": "2025-09-27T09:51:05.176065",
     "status": "completed"
    },
    "tags": []
   },
   "outputs": [],
   "source": [
    "df = df.loc[:, ~df.columns.duplicated()]"
   ]
  },
  {
   "cell_type": "markdown",
   "id": "25cff1c7",
   "metadata": {
    "papermill": {
     "duration": 0.009355,
     "end_time": "2025-09-27T09:51:05.213773",
     "exception": false,
     "start_time": "2025-09-27T09:51:05.204418",
     "status": "completed"
    },
    "tags": []
   },
   "source": [
    "**Rename col name**"
   ]
  },
  {
   "cell_type": "code",
   "execution_count": 10,
   "id": "493229fd",
   "metadata": {
    "execution": {
     "iopub.execute_input": "2025-09-27T09:51:05.233420Z",
     "iopub.status.busy": "2025-09-27T09:51:05.233054Z",
     "iopub.status.idle": "2025-09-27T09:51:05.238099Z",
     "shell.execute_reply": "2025-09-27T09:51:05.237342Z"
    },
    "papermill": {
     "duration": 0.016739,
     "end_time": "2025-09-27T09:51:05.239698",
     "exception": false,
     "start_time": "2025-09-27T09:51:05.222959",
     "status": "completed"
    },
    "tags": []
   },
   "outputs": [],
   "source": [
    "df.rename(columns={\n",
    "    'Costs': 'Transportation_costs',\n",
    "    'Lead times': 'Supplier_lead_time'\n",
    "}, inplace=True)"
   ]
  },
  {
   "cell_type": "markdown",
   "id": "96cd81e5",
   "metadata": {
    "papermill": {
     "duration": 0.009489,
     "end_time": "2025-09-27T09:51:05.258935",
     "exception": false,
     "start_time": "2025-09-27T09:51:05.249446",
     "status": "completed"
    },
    "tags": []
   },
   "source": [
    "**Filling null values**"
   ]
  },
  {
   "cell_type": "code",
   "execution_count": 11,
   "id": "7f296da4",
   "metadata": {
    "execution": {
     "iopub.execute_input": "2025-09-27T09:51:05.349291Z",
     "iopub.status.busy": "2025-09-27T09:51:05.348463Z",
     "iopub.status.idle": "2025-09-27T09:51:05.354848Z",
     "shell.execute_reply": "2025-09-27T09:51:05.353816Z"
    },
    "papermill": {
     "duration": 0.018986,
     "end_time": "2025-09-27T09:51:05.356448",
     "exception": false,
     "start_time": "2025-09-27T09:51:05.337462",
     "status": "completed"
    },
    "tags": []
   },
   "outputs": [],
   "source": [
    "df = df.fillna({\n",
    "    'Shipping carriers': 'Unknown',\n",
    "    'Customer demographics': 'Unknown'\n",
    "})"
   ]
  },
  {
   "cell_type": "markdown",
   "id": "db00a795",
   "metadata": {
    "papermill": {
     "duration": 0.009112,
     "end_time": "2025-09-27T09:51:05.375651",
     "exception": false,
     "start_time": "2025-09-27T09:51:05.366539",
     "status": "completed"
    },
    "tags": []
   },
   "source": [
    "**Cahnging The DataTypes of the Data**"
   ]
  },
  {
   "cell_type": "code",
   "execution_count": 12,
   "id": "143229f5",
   "metadata": {
    "execution": {
     "iopub.execute_input": "2025-09-27T09:51:05.397066Z",
     "iopub.status.busy": "2025-09-27T09:51:05.396758Z",
     "iopub.status.idle": "2025-09-27T09:51:05.403331Z",
     "shell.execute_reply": "2025-09-27T09:51:05.402315Z"
    },
    "papermill": {
     "duration": 0.018547,
     "end_time": "2025-09-27T09:51:05.404987",
     "exception": false,
     "start_time": "2025-09-27T09:51:05.386440",
     "status": "completed"
    },
    "tags": []
   },
   "outputs": [],
   "source": [
    "df['Price']=df['Price'].astype(float)\n",
    "df['Revenue generated'] = df['Revenue generated'].astype(float)\n",
    "df['Shipping costs'] = df['Shipping costs'].astype(float)\n"
   ]
  },
  {
   "cell_type": "code",
   "execution_count": 13,
   "id": "4bcbc084",
   "metadata": {
    "execution": {
     "iopub.execute_input": "2025-09-27T09:51:05.425272Z",
     "iopub.status.busy": "2025-09-27T09:51:05.424918Z",
     "iopub.status.idle": "2025-09-27T09:51:05.464798Z",
     "shell.execute_reply": "2025-09-27T09:51:05.463871Z"
    },
    "papermill": {
     "duration": 0.052013,
     "end_time": "2025-09-27T09:51:05.466418",
     "exception": false,
     "start_time": "2025-09-27T09:51:05.414405",
     "status": "completed"
    },
    "tags": []
   },
   "outputs": [
    {
     "data": {
      "text/html": [
       "<div>\n",
       "<style scoped>\n",
       "    .dataframe tbody tr th:only-of-type {\n",
       "        vertical-align: middle;\n",
       "    }\n",
       "\n",
       "    .dataframe tbody tr th {\n",
       "        vertical-align: top;\n",
       "    }\n",
       "\n",
       "    .dataframe thead th {\n",
       "        text-align: right;\n",
       "    }\n",
       "</style>\n",
       "<table border=\"1\" class=\"dataframe\">\n",
       "  <thead>\n",
       "    <tr style=\"text-align: right;\">\n",
       "      <th></th>\n",
       "      <th>Price</th>\n",
       "      <th>Availability</th>\n",
       "      <th>Number of products sold</th>\n",
       "      <th>Revenue generated</th>\n",
       "      <th>Stock levels</th>\n",
       "      <th>Supplier_lead_time</th>\n",
       "      <th>Order quantities</th>\n",
       "      <th>Shipping times</th>\n",
       "      <th>Shipping costs</th>\n",
       "      <th>Lead time</th>\n",
       "      <th>Production volumes</th>\n",
       "      <th>Manufacturing lead time</th>\n",
       "      <th>Manufacturing costs</th>\n",
       "      <th>Defect rates</th>\n",
       "      <th>Transportation_costs</th>\n",
       "    </tr>\n",
       "  </thead>\n",
       "  <tbody>\n",
       "    <tr>\n",
       "      <th>count</th>\n",
       "      <td>100.000000</td>\n",
       "      <td>100.000000</td>\n",
       "      <td>100.000000</td>\n",
       "      <td>100.000000</td>\n",
       "      <td>100.000000</td>\n",
       "      <td>100.000000</td>\n",
       "      <td>100.000000</td>\n",
       "      <td>100.000000</td>\n",
       "      <td>100.000000</td>\n",
       "      <td>100.000000</td>\n",
       "      <td>100.000000</td>\n",
       "      <td>100.00000</td>\n",
       "      <td>100.000000</td>\n",
       "      <td>100.000000</td>\n",
       "      <td>100.000000</td>\n",
       "    </tr>\n",
       "    <tr>\n",
       "      <th>mean</th>\n",
       "      <td>49.462461</td>\n",
       "      <td>48.400000</td>\n",
       "      <td>460.990000</td>\n",
       "      <td>5776.048187</td>\n",
       "      <td>47.770000</td>\n",
       "      <td>15.960000</td>\n",
       "      <td>49.220000</td>\n",
       "      <td>5.750000</td>\n",
       "      <td>5.548149</td>\n",
       "      <td>17.080000</td>\n",
       "      <td>567.840000</td>\n",
       "      <td>14.77000</td>\n",
       "      <td>47.266693</td>\n",
       "      <td>2.277158</td>\n",
       "      <td>529.245782</td>\n",
       "    </tr>\n",
       "    <tr>\n",
       "      <th>std</th>\n",
       "      <td>31.168193</td>\n",
       "      <td>30.743317</td>\n",
       "      <td>303.780074</td>\n",
       "      <td>2732.841744</td>\n",
       "      <td>31.369372</td>\n",
       "      <td>8.785801</td>\n",
       "      <td>26.784429</td>\n",
       "      <td>2.724283</td>\n",
       "      <td>2.651376</td>\n",
       "      <td>8.846251</td>\n",
       "      <td>263.046861</td>\n",
       "      <td>8.91243</td>\n",
       "      <td>28.982841</td>\n",
       "      <td>1.461366</td>\n",
       "      <td>258.301696</td>\n",
       "    </tr>\n",
       "    <tr>\n",
       "      <th>min</th>\n",
       "      <td>1.699976</td>\n",
       "      <td>1.000000</td>\n",
       "      <td>8.000000</td>\n",
       "      <td>1061.618523</td>\n",
       "      <td>0.000000</td>\n",
       "      <td>1.000000</td>\n",
       "      <td>1.000000</td>\n",
       "      <td>1.000000</td>\n",
       "      <td>1.013487</td>\n",
       "      <td>1.000000</td>\n",
       "      <td>104.000000</td>\n",
       "      <td>1.00000</td>\n",
       "      <td>1.085069</td>\n",
       "      <td>0.018608</td>\n",
       "      <td>103.916248</td>\n",
       "    </tr>\n",
       "    <tr>\n",
       "      <th>25%</th>\n",
       "      <td>19.597823</td>\n",
       "      <td>22.750000</td>\n",
       "      <td>184.250000</td>\n",
       "      <td>2812.847151</td>\n",
       "      <td>16.750000</td>\n",
       "      <td>8.000000</td>\n",
       "      <td>26.000000</td>\n",
       "      <td>3.750000</td>\n",
       "      <td>3.540248</td>\n",
       "      <td>10.000000</td>\n",
       "      <td>352.000000</td>\n",
       "      <td>7.00000</td>\n",
       "      <td>22.983299</td>\n",
       "      <td>1.009650</td>\n",
       "      <td>318.778455</td>\n",
       "    </tr>\n",
       "    <tr>\n",
       "      <th>50%</th>\n",
       "      <td>51.239831</td>\n",
       "      <td>43.500000</td>\n",
       "      <td>392.500000</td>\n",
       "      <td>6006.352023</td>\n",
       "      <td>47.500000</td>\n",
       "      <td>17.000000</td>\n",
       "      <td>52.000000</td>\n",
       "      <td>6.000000</td>\n",
       "      <td>5.320534</td>\n",
       "      <td>18.000000</td>\n",
       "      <td>568.500000</td>\n",
       "      <td>14.00000</td>\n",
       "      <td>45.905622</td>\n",
       "      <td>2.141863</td>\n",
       "      <td>520.430444</td>\n",
       "    </tr>\n",
       "    <tr>\n",
       "      <th>75%</th>\n",
       "      <td>77.198228</td>\n",
       "      <td>75.000000</td>\n",
       "      <td>704.250000</td>\n",
       "      <td>8253.976921</td>\n",
       "      <td>73.000000</td>\n",
       "      <td>24.000000</td>\n",
       "      <td>71.250000</td>\n",
       "      <td>8.000000</td>\n",
       "      <td>7.601695</td>\n",
       "      <td>25.000000</td>\n",
       "      <td>797.000000</td>\n",
       "      <td>23.00000</td>\n",
       "      <td>68.621026</td>\n",
       "      <td>3.563995</td>\n",
       "      <td>763.078231</td>\n",
       "    </tr>\n",
       "    <tr>\n",
       "      <th>max</th>\n",
       "      <td>99.171329</td>\n",
       "      <td>100.000000</td>\n",
       "      <td>996.000000</td>\n",
       "      <td>9866.465458</td>\n",
       "      <td>100.000000</td>\n",
       "      <td>30.000000</td>\n",
       "      <td>96.000000</td>\n",
       "      <td>10.000000</td>\n",
       "      <td>9.929816</td>\n",
       "      <td>30.000000</td>\n",
       "      <td>985.000000</td>\n",
       "      <td>30.00000</td>\n",
       "      <td>99.466109</td>\n",
       "      <td>4.939255</td>\n",
       "      <td>997.413450</td>\n",
       "    </tr>\n",
       "  </tbody>\n",
       "</table>\n",
       "</div>"
      ],
      "text/plain": [
       "            Price  Availability  Number of products sold  Revenue generated  \\\n",
       "count  100.000000    100.000000               100.000000         100.000000   \n",
       "mean    49.462461     48.400000               460.990000        5776.048187   \n",
       "std     31.168193     30.743317               303.780074        2732.841744   \n",
       "min      1.699976      1.000000                 8.000000        1061.618523   \n",
       "25%     19.597823     22.750000               184.250000        2812.847151   \n",
       "50%     51.239831     43.500000               392.500000        6006.352023   \n",
       "75%     77.198228     75.000000               704.250000        8253.976921   \n",
       "max     99.171329    100.000000               996.000000        9866.465458   \n",
       "\n",
       "       Stock levels  Supplier_lead_time  Order quantities  Shipping times  \\\n",
       "count    100.000000          100.000000        100.000000      100.000000   \n",
       "mean      47.770000           15.960000         49.220000        5.750000   \n",
       "std       31.369372            8.785801         26.784429        2.724283   \n",
       "min        0.000000            1.000000          1.000000        1.000000   \n",
       "25%       16.750000            8.000000         26.000000        3.750000   \n",
       "50%       47.500000           17.000000         52.000000        6.000000   \n",
       "75%       73.000000           24.000000         71.250000        8.000000   \n",
       "max      100.000000           30.000000         96.000000       10.000000   \n",
       "\n",
       "       Shipping costs   Lead time  Production volumes  \\\n",
       "count      100.000000  100.000000          100.000000   \n",
       "mean         5.548149   17.080000          567.840000   \n",
       "std          2.651376    8.846251          263.046861   \n",
       "min          1.013487    1.000000          104.000000   \n",
       "25%          3.540248   10.000000          352.000000   \n",
       "50%          5.320534   18.000000          568.500000   \n",
       "75%          7.601695   25.000000          797.000000   \n",
       "max          9.929816   30.000000          985.000000   \n",
       "\n",
       "       Manufacturing lead time  Manufacturing costs  Defect rates  \\\n",
       "count                100.00000           100.000000    100.000000   \n",
       "mean                  14.77000            47.266693      2.277158   \n",
       "std                    8.91243            28.982841      1.461366   \n",
       "min                    1.00000             1.085069      0.018608   \n",
       "25%                    7.00000            22.983299      1.009650   \n",
       "50%                   14.00000            45.905622      2.141863   \n",
       "75%                   23.00000            68.621026      3.563995   \n",
       "max                   30.00000            99.466109      4.939255   \n",
       "\n",
       "       Transportation_costs  \n",
       "count            100.000000  \n",
       "mean             529.245782  \n",
       "std              258.301696  \n",
       "min              103.916248  \n",
       "25%              318.778455  \n",
       "50%              520.430444  \n",
       "75%              763.078231  \n",
       "max              997.413450  "
      ]
     },
     "execution_count": 13,
     "metadata": {},
     "output_type": "execute_result"
    }
   ],
   "source": [
    "df.describe()"
   ]
  },
  {
   "cell_type": "markdown",
   "id": "7ed2501b",
   "metadata": {
    "papermill": {
     "duration": 0.009452,
     "end_time": "2025-09-27T09:51:05.485708",
     "exception": false,
     "start_time": "2025-09-27T09:51:05.476256",
     "status": "completed"
    },
    "tags": []
   },
   "source": [
    "# ===============================\n",
    "# 3. Descriptive Analytics\n",
    "# ==============================="
   ]
  },
  {
   "cell_type": "markdown",
   "id": "a92b0b6e",
   "metadata": {
    "papermill": {
     "duration": 0.00941,
     "end_time": "2025-09-27T09:51:05.504740",
     "exception": false,
     "start_time": "2025-09-27T09:51:05.495330",
     "status": "completed"
    },
    "tags": []
   },
   "source": [
    "# --- Product Analysis ---"
   ]
  },
  {
   "cell_type": "code",
   "execution_count": 14,
   "id": "ac6eaab7",
   "metadata": {
    "execution": {
     "iopub.execute_input": "2025-09-27T09:51:05.525451Z",
     "iopub.status.busy": "2025-09-27T09:51:05.525119Z",
     "iopub.status.idle": "2025-09-27T09:51:05.546536Z",
     "shell.execute_reply": "2025-09-27T09:51:05.545577Z"
    },
    "papermill": {
     "duration": 0.033997,
     "end_time": "2025-09-27T09:51:05.548387",
     "exception": false,
     "start_time": "2025-09-27T09:51:05.514390",
     "status": "completed"
    },
    "tags": []
   },
   "outputs": [
    {
     "data": {
      "text/html": [
       "<div>\n",
       "<style scoped>\n",
       "    .dataframe tbody tr th:only-of-type {\n",
       "        vertical-align: middle;\n",
       "    }\n",
       "\n",
       "    .dataframe tbody tr th {\n",
       "        vertical-align: top;\n",
       "    }\n",
       "\n",
       "    .dataframe thead th {\n",
       "        text-align: right;\n",
       "    }\n",
       "</style>\n",
       "<table border=\"1\" class=\"dataframe\">\n",
       "  <thead>\n",
       "    <tr style=\"text-align: right;\">\n",
       "      <th></th>\n",
       "      <th>Product type</th>\n",
       "      <th>SKU</th>\n",
       "      <th>Price</th>\n",
       "      <th>Availability</th>\n",
       "      <th>Number of products sold</th>\n",
       "      <th>Revenue generated</th>\n",
       "      <th>Customer demographics</th>\n",
       "      <th>Stock levels</th>\n",
       "      <th>Supplier_lead_time</th>\n",
       "      <th>Order quantities</th>\n",
       "      <th>...</th>\n",
       "      <th>Location</th>\n",
       "      <th>Lead time</th>\n",
       "      <th>Production volumes</th>\n",
       "      <th>Manufacturing lead time</th>\n",
       "      <th>Manufacturing costs</th>\n",
       "      <th>Inspection results</th>\n",
       "      <th>Defect rates</th>\n",
       "      <th>Transportation modes</th>\n",
       "      <th>Routes</th>\n",
       "      <th>Transportation_costs</th>\n",
       "    </tr>\n",
       "  </thead>\n",
       "  <tbody>\n",
       "    <tr>\n",
       "      <th>0</th>\n",
       "      <td>haircare</td>\n",
       "      <td>SKU0</td>\n",
       "      <td>69.808006</td>\n",
       "      <td>55</td>\n",
       "      <td>802</td>\n",
       "      <td>8661.996792</td>\n",
       "      <td>Non-binary</td>\n",
       "      <td>58</td>\n",
       "      <td>7</td>\n",
       "      <td>96</td>\n",
       "      <td>...</td>\n",
       "      <td>Mumbai</td>\n",
       "      <td>29</td>\n",
       "      <td>215</td>\n",
       "      <td>29</td>\n",
       "      <td>46.279879</td>\n",
       "      <td>Pending</td>\n",
       "      <td>0.226410</td>\n",
       "      <td>Road</td>\n",
       "      <td>Route B</td>\n",
       "      <td>187.752075</td>\n",
       "    </tr>\n",
       "    <tr>\n",
       "      <th>1</th>\n",
       "      <td>skincare</td>\n",
       "      <td>SKU1</td>\n",
       "      <td>14.843523</td>\n",
       "      <td>95</td>\n",
       "      <td>736</td>\n",
       "      <td>7460.900065</td>\n",
       "      <td>Female</td>\n",
       "      <td>53</td>\n",
       "      <td>30</td>\n",
       "      <td>37</td>\n",
       "      <td>...</td>\n",
       "      <td>Mumbai</td>\n",
       "      <td>23</td>\n",
       "      <td>517</td>\n",
       "      <td>30</td>\n",
       "      <td>33.616769</td>\n",
       "      <td>Pending</td>\n",
       "      <td>4.854068</td>\n",
       "      <td>Road</td>\n",
       "      <td>Route B</td>\n",
       "      <td>503.065579</td>\n",
       "    </tr>\n",
       "    <tr>\n",
       "      <th>2</th>\n",
       "      <td>haircare</td>\n",
       "      <td>SKU2</td>\n",
       "      <td>11.319683</td>\n",
       "      <td>34</td>\n",
       "      <td>8</td>\n",
       "      <td>9577.749626</td>\n",
       "      <td>Unknown</td>\n",
       "      <td>1</td>\n",
       "      <td>10</td>\n",
       "      <td>88</td>\n",
       "      <td>...</td>\n",
       "      <td>Mumbai</td>\n",
       "      <td>12</td>\n",
       "      <td>971</td>\n",
       "      <td>27</td>\n",
       "      <td>30.688019</td>\n",
       "      <td>Pending</td>\n",
       "      <td>4.580593</td>\n",
       "      <td>Air</td>\n",
       "      <td>Route C</td>\n",
       "      <td>141.920282</td>\n",
       "    </tr>\n",
       "    <tr>\n",
       "      <th>3</th>\n",
       "      <td>skincare</td>\n",
       "      <td>SKU3</td>\n",
       "      <td>61.163343</td>\n",
       "      <td>68</td>\n",
       "      <td>83</td>\n",
       "      <td>7766.836426</td>\n",
       "      <td>Non-binary</td>\n",
       "      <td>23</td>\n",
       "      <td>13</td>\n",
       "      <td>59</td>\n",
       "      <td>...</td>\n",
       "      <td>Kolkata</td>\n",
       "      <td>24</td>\n",
       "      <td>937</td>\n",
       "      <td>18</td>\n",
       "      <td>35.624741</td>\n",
       "      <td>Fail</td>\n",
       "      <td>4.746649</td>\n",
       "      <td>Rail</td>\n",
       "      <td>Route A</td>\n",
       "      <td>254.776159</td>\n",
       "    </tr>\n",
       "    <tr>\n",
       "      <th>4</th>\n",
       "      <td>skincare</td>\n",
       "      <td>SKU4</td>\n",
       "      <td>4.805496</td>\n",
       "      <td>26</td>\n",
       "      <td>871</td>\n",
       "      <td>2686.505152</td>\n",
       "      <td>Non-binary</td>\n",
       "      <td>5</td>\n",
       "      <td>3</td>\n",
       "      <td>56</td>\n",
       "      <td>...</td>\n",
       "      <td>Delhi</td>\n",
       "      <td>5</td>\n",
       "      <td>414</td>\n",
       "      <td>3</td>\n",
       "      <td>92.065161</td>\n",
       "      <td>Fail</td>\n",
       "      <td>3.145580</td>\n",
       "      <td>Air</td>\n",
       "      <td>Route A</td>\n",
       "      <td>923.440632</td>\n",
       "    </tr>\n",
       "  </tbody>\n",
       "</table>\n",
       "<p>5 rows × 24 columns</p>\n",
       "</div>"
      ],
      "text/plain": [
       "  Product type   SKU      Price  Availability  Number of products sold  \\\n",
       "0     haircare  SKU0  69.808006            55                      802   \n",
       "1     skincare  SKU1  14.843523            95                      736   \n",
       "2     haircare  SKU2  11.319683            34                        8   \n",
       "3     skincare  SKU3  61.163343            68                       83   \n",
       "4     skincare  SKU4   4.805496            26                      871   \n",
       "\n",
       "   Revenue generated Customer demographics  Stock levels  Supplier_lead_time  \\\n",
       "0        8661.996792            Non-binary            58                   7   \n",
       "1        7460.900065                Female            53                  30   \n",
       "2        9577.749626               Unknown             1                  10   \n",
       "3        7766.836426            Non-binary            23                  13   \n",
       "4        2686.505152            Non-binary             5                   3   \n",
       "\n",
       "   Order quantities  ...  Location Lead time  Production volumes  \\\n",
       "0                96  ...    Mumbai        29                 215   \n",
       "1                37  ...    Mumbai        23                 517   \n",
       "2                88  ...    Mumbai        12                 971   \n",
       "3                59  ...   Kolkata        24                 937   \n",
       "4                56  ...     Delhi         5                 414   \n",
       "\n",
       "  Manufacturing lead time Manufacturing costs  Inspection results  \\\n",
       "0                      29           46.279879             Pending   \n",
       "1                      30           33.616769             Pending   \n",
       "2                      27           30.688019             Pending   \n",
       "3                      18           35.624741                Fail   \n",
       "4                       3           92.065161                Fail   \n",
       "\n",
       "   Defect rates  Transportation modes   Routes Transportation_costs  \n",
       "0      0.226410                  Road  Route B           187.752075  \n",
       "1      4.854068                  Road  Route B           503.065579  \n",
       "2      4.580593                   Air  Route C           141.920282  \n",
       "3      4.746649                  Rail  Route A           254.776159  \n",
       "4      3.145580                   Air  Route A           923.440632  \n",
       "\n",
       "[5 rows x 24 columns]"
      ]
     },
     "execution_count": 14,
     "metadata": {},
     "output_type": "execute_result"
    }
   ],
   "source": [
    "df.head(5)"
   ]
  },
  {
   "cell_type": "code",
   "execution_count": 15,
   "id": "d42fc2b1",
   "metadata": {
    "execution": {
     "iopub.execute_input": "2025-09-27T09:51:05.570779Z",
     "iopub.status.busy": "2025-09-27T09:51:05.570428Z",
     "iopub.status.idle": "2025-09-27T09:51:05.995830Z",
     "shell.execute_reply": "2025-09-27T09:51:05.994872Z"
    },
    "papermill": {
     "duration": 0.438794,
     "end_time": "2025-09-27T09:51:05.997439",
     "exception": false,
     "start_time": "2025-09-27T09:51:05.558645",
     "status": "completed"
    },
    "tags": []
   },
   "outputs": [
    {
     "data": {
      "text/html": [
       "<div>\n",
       "<style scoped>\n",
       "    .dataframe tbody tr th:only-of-type {\n",
       "        vertical-align: middle;\n",
       "    }\n",
       "\n",
       "    .dataframe tbody tr th {\n",
       "        vertical-align: top;\n",
       "    }\n",
       "\n",
       "    .dataframe thead th {\n",
       "        text-align: right;\n",
       "    }\n",
       "</style>\n",
       "<table border=\"1\" class=\"dataframe\">\n",
       "  <thead>\n",
       "    <tr style=\"text-align: right;\">\n",
       "      <th></th>\n",
       "      <th>Number of products sold</th>\n",
       "      <th>Revenue generated</th>\n",
       "    </tr>\n",
       "    <tr>\n",
       "      <th>SKU</th>\n",
       "      <th></th>\n",
       "      <th></th>\n",
       "    </tr>\n",
       "  </thead>\n",
       "  <tbody>\n",
       "    <tr>\n",
       "      <th>SKU51</th>\n",
       "      <td>154</td>\n",
       "      <td>9866.465458</td>\n",
       "    </tr>\n",
       "    <tr>\n",
       "      <th>SKU38</th>\n",
       "      <td>705</td>\n",
       "      <td>9692.318040</td>\n",
       "    </tr>\n",
       "    <tr>\n",
       "      <th>SKU31</th>\n",
       "      <td>168</td>\n",
       "      <td>9655.135103</td>\n",
       "    </tr>\n",
       "    <tr>\n",
       "      <th>SKU90</th>\n",
       "      <td>320</td>\n",
       "      <td>9592.633570</td>\n",
       "    </tr>\n",
       "    <tr>\n",
       "      <th>SKU2</th>\n",
       "      <td>8</td>\n",
       "      <td>9577.749626</td>\n",
       "    </tr>\n",
       "    <tr>\n",
       "      <th>SKU32</th>\n",
       "      <td>781</td>\n",
       "      <td>9571.550487</td>\n",
       "    </tr>\n",
       "    <tr>\n",
       "      <th>SKU67</th>\n",
       "      <td>513</td>\n",
       "      <td>9473.798033</td>\n",
       "    </tr>\n",
       "    <tr>\n",
       "      <th>SKU88</th>\n",
       "      <td>737</td>\n",
       "      <td>9444.742033</td>\n",
       "    </tr>\n",
       "    <tr>\n",
       "      <th>SKU52</th>\n",
       "      <td>820</td>\n",
       "      <td>9435.762609</td>\n",
       "    </tr>\n",
       "    <tr>\n",
       "      <th>SKU18</th>\n",
       "      <td>620</td>\n",
       "      <td>9364.673505</td>\n",
       "    </tr>\n",
       "  </tbody>\n",
       "</table>\n",
       "</div>"
      ],
      "text/plain": [
       "       Number of products sold  Revenue generated\n",
       "SKU                                              \n",
       "SKU51                      154        9866.465458\n",
       "SKU38                      705        9692.318040\n",
       "SKU31                      168        9655.135103\n",
       "SKU90                      320        9592.633570\n",
       "SKU2                         8        9577.749626\n",
       "SKU32                      781        9571.550487\n",
       "SKU67                      513        9473.798033\n",
       "SKU88                      737        9444.742033\n",
       "SKU52                      820        9435.762609\n",
       "SKU18                      620        9364.673505"
      ]
     },
     "metadata": {},
     "output_type": "display_data"
    },
    {
     "data": {
      "image/png": "[encoded data removed]",
      "text/plain": [
       "<Figure size 1000x600 with 1 Axes>"
      ]
     },
     "metadata": {},
     "output_type": "display_data"
    }
   ],
   "source": [
    "top_products=df.groupby('SKU').agg({\n",
    "    'Number of products sold':'sum',\n",
    "    'Revenue generated':'sum'\n",
    "}).sort_values(by='Revenue generated',ascending=False).head(10)\n",
    "display(top_products)\n",
    "\n",
    "plt.figure(figsize=(10,6))\n",
    "sns.barplot(x=top_products.index, y=top_products['Revenue generated'])\n",
    "plt.title(\"Top 10 SKUs by Revenue\")\n",
    "plt.xticks(rotation=45)\n",
    "plt.show()\n"
   ]
  },
  {
   "cell_type": "code",
   "execution_count": 16,
   "id": "94b94c7a",
   "metadata": {
    "execution": {
     "iopub.execute_input": "2025-09-27T09:51:06.022786Z",
     "iopub.status.busy": "2025-09-27T09:51:06.021747Z",
     "iopub.status.idle": "2025-09-27T09:51:06.356630Z",
     "shell.execute_reply": "2025-09-27T09:51:06.355500Z"
    },
    "papermill": {
     "duration": 0.349734,
     "end_time": "2025-09-27T09:51:06.358254",
     "exception": false,
     "start_time": "2025-09-27T09:51:06.008520",
     "status": "completed"
    },
    "tags": []
   },
   "outputs": [
    {
     "name": "stderr",
     "output_type": "stream",
     "text": [
      "/usr/local/lib/python3.11/dist-packages/seaborn/_oldcore.py:1119: FutureWarning: use_inf_as_na option is deprecated and will be removed in a future version. Convert inf values to NaN before operating instead.\n",
      "  with pd.option_context('mode.use_inf_as_na', True):\n"
     ]
    },
    {
     "data": {
      "image/png": "[encoded data removed]",
      "text/plain": [
       "<Figure size 1000x600 with 1 Axes>"
      ]
     },
     "metadata": {},
     "output_type": "display_data"
    }
   ],
   "source": [
    "plt.figure(figsize=(10,6))\n",
    "sns.histplot(df['Price'], bins=50, kde=True, color='skyblue')\n",
    "\n",
    "plt.title(\"Price Distribution Across Products\", fontsize=14)\n",
    "plt.xlabel(\"Price\")\n",
    "plt.ylabel(\"Count\")\n",
    "plt.show()\n"
   ]
  },
  {
   "cell_type": "markdown",
   "id": "fa3760d2",
   "metadata": {
    "papermill": {
     "duration": 0.01081,
     "end_time": "2025-09-27T09:51:06.380641",
     "exception": false,
     "start_time": "2025-09-27T09:51:06.369831",
     "status": "completed"
    },
    "tags": []
   },
   "source": [
    "**Finding Primium Outliers**"
   ]
  },
  {
   "cell_type": "code",
   "execution_count": 17,
   "id": "8bab372a",
   "metadata": {
    "execution": {
     "iopub.execute_input": "2025-09-27T09:51:06.406623Z",
     "iopub.status.busy": "2025-09-27T09:51:06.406268Z",
     "iopub.status.idle": "2025-09-27T09:51:06.523132Z",
     "shell.execute_reply": "2025-09-27T09:51:06.522204Z"
    },
    "papermill": {
     "duration": 0.131923,
     "end_time": "2025-09-27T09:51:06.524825",
     "exception": false,
     "start_time": "2025-09-27T09:51:06.392902",
     "status": "completed"
    },
    "tags": []
   },
   "outputs": [
    {
     "data": {
      "image/png": "[encoded data removed]",
      "text/plain": [
       "<Figure size 800x500 with 1 Axes>"
      ]
     },
     "metadata": {},
     "output_type": "display_data"
    }
   ],
   "source": [
    "plt.figure(figsize=(8,5))\n",
    "sns.boxplot(x=df['Price'],color='lightcoral')\n",
    "plt.title('finding premium outliers range')\n",
    "plt.xlabel('price')\n",
    "plt.show()"
   ]
  },
  {
   "cell_type": "code",
   "execution_count": 18,
   "id": "180a1f2f",
   "metadata": {
    "execution": {
     "iopub.execute_input": "2025-09-27T09:51:06.552343Z",
     "iopub.status.busy": "2025-09-27T09:51:06.552020Z",
     "iopub.status.idle": "2025-09-27T09:51:06.571019Z",
     "shell.execute_reply": "2025-09-27T09:51:06.570142Z"
    },
    "papermill": {
     "duration": 0.034608,
     "end_time": "2025-09-27T09:51:06.572465",
     "exception": false,
     "start_time": "2025-09-27T09:51:06.537857",
     "status": "completed"
    },
    "tags": []
   },
   "outputs": [],
   "source": [
    "low=df['Price'].quantile(0.25)\n",
    "high=df['Price'].quantile(0.75)\n",
    "\n",
    "bins=[0,low , high, df['Price'].max()]\n",
    "labels=['Low cost','Midium range','Premium ']\n",
    "\n",
    "df['PriceDistribution']=pd.cut(df['Price'],\n",
    "                               bins,\n",
    "                                labels\n",
    "                               )"
   ]
  },
  {
   "cell_type": "code",
   "execution_count": 19,
   "id": "0d4788e8",
   "metadata": {
    "execution": {
     "iopub.execute_input": "2025-09-27T09:51:06.596735Z",
     "iopub.status.busy": "2025-09-27T09:51:06.596342Z",
     "iopub.status.idle": "2025-09-27T09:51:06.743290Z",
     "shell.execute_reply": "2025-09-27T09:51:06.742257Z"
    },
    "papermill": {
     "duration": 0.160834,
     "end_time": "2025-09-27T09:51:06.744830",
     "exception": false,
     "start_time": "2025-09-27T09:51:06.583996",
     "status": "completed"
    },
    "tags": []
   },
   "outputs": [
    {
     "name": "stderr",
     "output_type": "stream",
     "text": [
      "/usr/local/lib/python3.11/dist-packages/seaborn/categorical.py:641: FutureWarning: The default of observed=False is deprecated and will be changed to True in a future version of pandas. Pass observed=False to retain current behavior or observed=True to adopt the future default and silence this warning.\n",
      "  grouped_vals = vals.groupby(grouper)\n"
     ]
    },
    {
     "data": {
      "image/png": "[encoded data removed]",
      "text/plain": [
       "<Figure size 500x700 with 1 Axes>"
      ]
     },
     "metadata": {},
     "output_type": "display_data"
    }
   ],
   "source": [
    "plt.figure(figsize=(5,7))\n",
    "sns.countplot(x=df['PriceDistribution'], palette='viridis')\n",
    "plt.title('product segmentation by price')\n",
    "plt.show()"
   ]
  },
  {
   "cell_type": "markdown",
   "id": "3f29e4b9",
   "metadata": {
    "papermill": {
     "duration": 0.012066,
     "end_time": "2025-09-27T09:51:06.770912",
     "exception": false,
     "start_time": "2025-09-27T09:51:06.758846",
     "status": "completed"
    },
    "tags": []
   },
   "source": [
    "# --Customer Segmentation Analysis--"
   ]
  },
  {
   "cell_type": "markdown",
   "id": "6b330e24",
   "metadata": {
    "papermill": {
     "duration": 0.011554,
     "end_time": "2025-09-27T09:51:06.794635",
     "exception": false,
     "start_time": "2025-09-27T09:51:06.783081",
     "status": "completed"
    },
    "tags": []
   },
   "source": [
    "# -----Demographic-wise revenue contribution.------\n"
   ]
  },
  {
   "cell_type": "code",
   "execution_count": 20,
   "id": "e45bc7c2",
   "metadata": {
    "execution": {
     "iopub.execute_input": "2025-09-27T09:51:06.819786Z",
     "iopub.status.busy": "2025-09-27T09:51:06.819445Z",
     "iopub.status.idle": "2025-09-27T09:51:06.987746Z",
     "shell.execute_reply": "2025-09-27T09:51:06.986680Z"
    },
    "papermill": {
     "duration": 0.183003,
     "end_time": "2025-09-27T09:51:06.989573",
     "exception": false,
     "start_time": "2025-09-27T09:51:06.806570",
     "status": "completed"
    },
    "tags": []
   },
   "outputs": [
    {
     "data": {
      "text/html": [
       "<div>\n",
       "<style scoped>\n",
       "    .dataframe tbody tr th:only-of-type {\n",
       "        vertical-align: middle;\n",
       "    }\n",
       "\n",
       "    .dataframe tbody tr th {\n",
       "        vertical-align: top;\n",
       "    }\n",
       "\n",
       "    .dataframe thead th {\n",
       "        text-align: right;\n",
       "    }\n",
       "</style>\n",
       "<table border=\"1\" class=\"dataframe\">\n",
       "  <thead>\n",
       "    <tr style=\"text-align: right;\">\n",
       "      <th></th>\n",
       "      <th>Customer demographics</th>\n",
       "      <th>Revenue generated</th>\n",
       "    </tr>\n",
       "  </thead>\n",
       "  <tbody>\n",
       "    <tr>\n",
       "      <th>3</th>\n",
       "      <td>Unknown</td>\n",
       "      <td>173090.133837</td>\n",
       "    </tr>\n",
       "    <tr>\n",
       "      <th>0</th>\n",
       "      <td>Female</td>\n",
       "      <td>161514.489122</td>\n",
       "    </tr>\n",
       "    <tr>\n",
       "      <th>1</th>\n",
       "      <td>Male</td>\n",
       "      <td>126634.394260</td>\n",
       "    </tr>\n",
       "    <tr>\n",
       "      <th>2</th>\n",
       "      <td>Non-binary</td>\n",
       "      <td>116365.801520</td>\n",
       "    </tr>\n",
       "  </tbody>\n",
       "</table>\n",
       "</div>"
      ],
      "text/plain": [
       "  Customer demographics  Revenue generated\n",
       "3               Unknown      173090.133837\n",
       "0                Female      161514.489122\n",
       "1                  Male      126634.394260\n",
       "2            Non-binary      116365.801520"
      ]
     },
     "metadata": {},
     "output_type": "display_data"
    },
    {
     "data": {
      "image/png": "[encoded data removed]",
      "text/plain": [
       "<Figure size 500x500 with 1 Axes>"
      ]
     },
     "metadata": {},
     "output_type": "display_data"
    }
   ],
   "source": [
    "Demo_rev_cont=(df.groupby('Customer demographics')\n",
    "               ['Revenue generated'].sum().reset_index()\n",
    "               .sort_values(by='Revenue generated', ascending=False))\n",
    "display(Demo_rev_cont)\n",
    "\n",
    "plt.figure(figsize=(5,5))\n",
    "sns.barplot(x=Demo_rev_cont['Customer demographics']\n",
    "              ,y=Demo_rev_cont['Revenue generated'],data=Demo_rev_cont)\n",
    "plt.title('Revenue Distribution By Demographic Data')\n",
    "plt.show()"
   ]
  },
  {
   "cell_type": "markdown",
   "id": "f4e5dde8",
   "metadata": {
    "papermill": {
     "duration": 0.012578,
     "end_time": "2025-09-27T09:51:07.015690",
     "exception": false,
     "start_time": "2025-09-27T09:51:07.003112",
     "status": "completed"
    },
    "tags": []
   },
   "source": [
    "# -----High Value Customer Cluster-------"
   ]
  },
  {
   "cell_type": "code",
   "execution_count": 21,
   "id": "35473c04",
   "metadata": {
    "execution": {
     "iopub.execute_input": "2025-09-27T09:51:07.043117Z",
     "iopub.status.busy": "2025-09-27T09:51:07.042551Z",
     "iopub.status.idle": "2025-09-27T09:51:07.065352Z",
     "shell.execute_reply": "2025-09-27T09:51:07.064268Z"
    },
    "papermill": {
     "duration": 0.03855,
     "end_time": "2025-09-27T09:51:07.067140",
     "exception": false,
     "start_time": "2025-09-27T09:51:07.028590",
     "status": "completed"
    },
    "tags": []
   },
   "outputs": [
    {
     "data": {
      "text/html": [
       "<div>\n",
       "<style scoped>\n",
       "    .dataframe tbody tr th:only-of-type {\n",
       "        vertical-align: middle;\n",
       "    }\n",
       "\n",
       "    .dataframe tbody tr th {\n",
       "        vertical-align: top;\n",
       "    }\n",
       "\n",
       "    .dataframe thead th {\n",
       "        text-align: right;\n",
       "    }\n",
       "</style>\n",
       "<table border=\"1\" class=\"dataframe\">\n",
       "  <thead>\n",
       "    <tr style=\"text-align: right;\">\n",
       "      <th></th>\n",
       "      <th>Product type</th>\n",
       "      <th>SKU</th>\n",
       "      <th>Price</th>\n",
       "      <th>Availability</th>\n",
       "      <th>Number of products sold</th>\n",
       "      <th>Revenue generated</th>\n",
       "      <th>Customer demographics</th>\n",
       "      <th>Stock levels</th>\n",
       "      <th>Supplier_lead_time</th>\n",
       "      <th>Order quantities</th>\n",
       "      <th>...</th>\n",
       "      <th>Lead time</th>\n",
       "      <th>Production volumes</th>\n",
       "      <th>Manufacturing lead time</th>\n",
       "      <th>Manufacturing costs</th>\n",
       "      <th>Inspection results</th>\n",
       "      <th>Defect rates</th>\n",
       "      <th>Transportation modes</th>\n",
       "      <th>Routes</th>\n",
       "      <th>Transportation_costs</th>\n",
       "      <th>PriceDistribution</th>\n",
       "    </tr>\n",
       "  </thead>\n",
       "  <tbody>\n",
       "    <tr>\n",
       "      <th>0</th>\n",
       "      <td>haircare</td>\n",
       "      <td>SKU0</td>\n",
       "      <td>69.808006</td>\n",
       "      <td>55</td>\n",
       "      <td>802</td>\n",
       "      <td>8661.996792</td>\n",
       "      <td>Non-binary</td>\n",
       "      <td>58</td>\n",
       "      <td>7</td>\n",
       "      <td>96</td>\n",
       "      <td>...</td>\n",
       "      <td>29</td>\n",
       "      <td>215</td>\n",
       "      <td>29</td>\n",
       "      <td>46.279879</td>\n",
       "      <td>Pending</td>\n",
       "      <td>0.226410</td>\n",
       "      <td>Road</td>\n",
       "      <td>Route B</td>\n",
       "      <td>187.752075</td>\n",
       "      <td>(19.598, 77.198]</td>\n",
       "    </tr>\n",
       "    <tr>\n",
       "      <th>1</th>\n",
       "      <td>skincare</td>\n",
       "      <td>SKU1</td>\n",
       "      <td>14.843523</td>\n",
       "      <td>95</td>\n",
       "      <td>736</td>\n",
       "      <td>7460.900065</td>\n",
       "      <td>Female</td>\n",
       "      <td>53</td>\n",
       "      <td>30</td>\n",
       "      <td>37</td>\n",
       "      <td>...</td>\n",
       "      <td>23</td>\n",
       "      <td>517</td>\n",
       "      <td>30</td>\n",
       "      <td>33.616769</td>\n",
       "      <td>Pending</td>\n",
       "      <td>4.854068</td>\n",
       "      <td>Road</td>\n",
       "      <td>Route B</td>\n",
       "      <td>503.065579</td>\n",
       "      <td>(0.0, 19.598]</td>\n",
       "    </tr>\n",
       "    <tr>\n",
       "      <th>2</th>\n",
       "      <td>haircare</td>\n",
       "      <td>SKU2</td>\n",
       "      <td>11.319683</td>\n",
       "      <td>34</td>\n",
       "      <td>8</td>\n",
       "      <td>9577.749626</td>\n",
       "      <td>Unknown</td>\n",
       "      <td>1</td>\n",
       "      <td>10</td>\n",
       "      <td>88</td>\n",
       "      <td>...</td>\n",
       "      <td>12</td>\n",
       "      <td>971</td>\n",
       "      <td>27</td>\n",
       "      <td>30.688019</td>\n",
       "      <td>Pending</td>\n",
       "      <td>4.580593</td>\n",
       "      <td>Air</td>\n",
       "      <td>Route C</td>\n",
       "      <td>141.920282</td>\n",
       "      <td>(0.0, 19.598]</td>\n",
       "    </tr>\n",
       "    <tr>\n",
       "      <th>3</th>\n",
       "      <td>skincare</td>\n",
       "      <td>SKU3</td>\n",
       "      <td>61.163343</td>\n",
       "      <td>68</td>\n",
       "      <td>83</td>\n",
       "      <td>7766.836426</td>\n",
       "      <td>Non-binary</td>\n",
       "      <td>23</td>\n",
       "      <td>13</td>\n",
       "      <td>59</td>\n",
       "      <td>...</td>\n",
       "      <td>24</td>\n",
       "      <td>937</td>\n",
       "      <td>18</td>\n",
       "      <td>35.624741</td>\n",
       "      <td>Fail</td>\n",
       "      <td>4.746649</td>\n",
       "      <td>Rail</td>\n",
       "      <td>Route A</td>\n",
       "      <td>254.776159</td>\n",
       "      <td>(19.598, 77.198]</td>\n",
       "    </tr>\n",
       "    <tr>\n",
       "      <th>4</th>\n",
       "      <td>skincare</td>\n",
       "      <td>SKU4</td>\n",
       "      <td>4.805496</td>\n",
       "      <td>26</td>\n",
       "      <td>871</td>\n",
       "      <td>2686.505152</td>\n",
       "      <td>Non-binary</td>\n",
       "      <td>5</td>\n",
       "      <td>3</td>\n",
       "      <td>56</td>\n",
       "      <td>...</td>\n",
       "      <td>5</td>\n",
       "      <td>414</td>\n",
       "      <td>3</td>\n",
       "      <td>92.065161</td>\n",
       "      <td>Fail</td>\n",
       "      <td>3.145580</td>\n",
       "      <td>Air</td>\n",
       "      <td>Route A</td>\n",
       "      <td>923.440632</td>\n",
       "      <td>(0.0, 19.598]</td>\n",
       "    </tr>\n",
       "  </tbody>\n",
       "</table>\n",
       "<p>5 rows × 25 columns</p>\n",
       "</div>"
      ],
      "text/plain": [
       "  Product type   SKU      Price  Availability  Number of products sold  \\\n",
       "0     haircare  SKU0  69.808006            55                      802   \n",
       "1     skincare  SKU1  14.843523            95                      736   \n",
       "2     haircare  SKU2  11.319683            34                        8   \n",
       "3     skincare  SKU3  61.163343            68                       83   \n",
       "4     skincare  SKU4   4.805496            26                      871   \n",
       "\n",
       "   Revenue generated Customer demographics  Stock levels  Supplier_lead_time  \\\n",
       "0        8661.996792            Non-binary            58                   7   \n",
       "1        7460.900065                Female            53                  30   \n",
       "2        9577.749626               Unknown             1                  10   \n",
       "3        7766.836426            Non-binary            23                  13   \n",
       "4        2686.505152            Non-binary             5                   3   \n",
       "\n",
       "   Order quantities  ...  Lead time Production volumes  \\\n",
       "0                96  ...         29                215   \n",
       "1                37  ...         23                517   \n",
       "2                88  ...         12                971   \n",
       "3                59  ...         24                937   \n",
       "4                56  ...          5                414   \n",
       "\n",
       "   Manufacturing lead time Manufacturing costs Inspection results  \\\n",
       "0                       29           46.279879            Pending   \n",
       "1                       30           33.616769            Pending   \n",
       "2                       27           30.688019            Pending   \n",
       "3                       18           35.624741               Fail   \n",
       "4                        3           92.065161               Fail   \n",
       "\n",
       "   Defect rates  Transportation modes   Routes  Transportation_costs  \\\n",
       "0      0.226410                  Road  Route B            187.752075   \n",
       "1      4.854068                  Road  Route B            503.065579   \n",
       "2      4.580593                   Air  Route C            141.920282   \n",
       "3      4.746649                  Rail  Route A            254.776159   \n",
       "4      3.145580                   Air  Route A            923.440632   \n",
       "\n",
       "  PriceDistribution  \n",
       "0  (19.598, 77.198]  \n",
       "1     (0.0, 19.598]  \n",
       "2     (0.0, 19.598]  \n",
       "3  (19.598, 77.198]  \n",
       "4     (0.0, 19.598]  \n",
       "\n",
       "[5 rows x 25 columns]"
      ]
     },
     "execution_count": 21,
     "metadata": {},
     "output_type": "execute_result"
    }
   ],
   "source": [
    "df.head()"
   ]
  },
  {
   "cell_type": "code",
   "execution_count": 22,
   "id": "e61820c3",
   "metadata": {
    "execution": {
     "iopub.execute_input": "2025-09-27T09:51:07.096263Z",
     "iopub.status.busy": "2025-09-27T09:51:07.095979Z",
     "iopub.status.idle": "2025-09-27T09:51:07.268362Z",
     "shell.execute_reply": "2025-09-27T09:51:07.267193Z"
    },
    "papermill": {
     "duration": 0.188076,
     "end_time": "2025-09-27T09:51:07.269952",
     "exception": false,
     "start_time": "2025-09-27T09:51:07.081876",
     "status": "completed"
    },
    "tags": []
   },
   "outputs": [
    {
     "name": "stdout",
     "output_type": "stream",
     "text": [
      "Customer_cluster_revenue\n",
      "Medium Value Cluster    50\n",
      "Low Value Cluster       25\n",
      "High Value Cluster      25\n",
      "Name: count, dtype: int64\n"
     ]
    },
    {
     "name": "stderr",
     "output_type": "stream",
     "text": [
      "/usr/local/lib/python3.11/dist-packages/seaborn/categorical.py:641: FutureWarning: The default of observed=False is deprecated and will be changed to True in a future version of pandas. Pass observed=False to retain current behavior or observed=True to adopt the future default and silence this warning.\n",
      "  grouped_vals = vals.groupby(grouper)\n"
     ]
    },
    {
     "data": {
      "image/png": "[encoded data removed]",
      "text/plain": [
       "<Figure size 700x600 with 1 Axes>"
      ]
     },
     "metadata": {},
     "output_type": "display_data"
    },
    {
     "name": "stderr",
     "output_type": "stream",
     "text": [
      "/tmp/ipykernel_13/3474074014.py:27: FutureWarning: The default of observed=False is deprecated and will be changed to True in a future version of pandas. Pass observed=False to retain current behavior or observed=True to adopt the future default and silence this warning.\n",
      "  cal_cluster_revenue=df.groupby('Customer_cluster_revenue')['Revenue generated'].sum().reset_index()\n"
     ]
    },
    {
     "data": {
      "text/html": [
       "<div>\n",
       "<style scoped>\n",
       "    .dataframe tbody tr th:only-of-type {\n",
       "        vertical-align: middle;\n",
       "    }\n",
       "\n",
       "    .dataframe tbody tr th {\n",
       "        vertical-align: top;\n",
       "    }\n",
       "\n",
       "    .dataframe thead th {\n",
       "        text-align: right;\n",
       "    }\n",
       "</style>\n",
       "<table border=\"1\" class=\"dataframe\">\n",
       "  <thead>\n",
       "    <tr style=\"text-align: right;\">\n",
       "      <th></th>\n",
       "      <th>Customer_cluster_revenue</th>\n",
       "      <th>Revenue generated</th>\n",
       "    </tr>\n",
       "  </thead>\n",
       "  <tbody>\n",
       "    <tr>\n",
       "      <th>0</th>\n",
       "      <td>Low Value Cluster</td>\n",
       "      <td>53430.332661</td>\n",
       "    </tr>\n",
       "    <tr>\n",
       "      <th>1</th>\n",
       "      <td>Medium Value Cluster</td>\n",
       "      <td>298307.385895</td>\n",
       "    </tr>\n",
       "    <tr>\n",
       "      <th>2</th>\n",
       "      <td>High Value Cluster</td>\n",
       "      <td>225867.100182</td>\n",
       "    </tr>\n",
       "  </tbody>\n",
       "</table>\n",
       "</div>"
      ],
      "text/plain": [
       "  Customer_cluster_revenue  Revenue generated\n",
       "0        Low Value Cluster       53430.332661\n",
       "1     Medium Value Cluster      298307.385895\n",
       "2       High Value Cluster      225867.100182"
      ]
     },
     "metadata": {},
     "output_type": "display_data"
    }
   ],
   "source": [
    "\n",
    "low_revenue  = df['Revenue generated'].quantile(0.25)\n",
    "high_revenue = df['Revenue generated'].quantile(0.75)\n",
    "\n",
    "\n",
    "bins   = [0, low_revenue, high_revenue, df['Revenue generated'].max()]\n",
    "labels = ['Low Value Cluster', 'Medium Value Cluster', 'High Value Cluster']\n",
    "\n",
    "\n",
    "df['Customer_cluster_revenue'] = pd.cut(\n",
    "    df['Revenue generated'],\n",
    "    bins=bins,\n",
    "    labels=labels,\n",
    "    include_lowest=True\n",
    ")\n",
    "\n",
    "\n",
    "print(df['Customer_cluster_revenue'].value_counts())\n",
    "\n",
    "\n",
    "plt.figure(figsize=(7,6))\n",
    "sns.countplot(x=df['Customer_cluster_revenue'], palette='viridis')\n",
    "plt.title('Revenue-based Customer Segmentation', fontsize=14)\n",
    "plt.xlabel(\"Customer Cluster (by Revenue)\")\n",
    "plt.ylabel(\"Number of Customers\")\n",
    "plt.show()\n",
    "\n",
    "cal_cluster_revenue=df.groupby('Customer_cluster_revenue')['Revenue generated'].sum().reset_index()\n",
    "display(cal_cluster_revenue)"
   ]
  },
  {
   "cell_type": "markdown",
   "id": "ed5943c2",
   "metadata": {
    "papermill": {
     "duration": 0.013729,
     "end_time": "2025-09-27T09:51:07.297644",
     "exception": false,
     "start_time": "2025-09-27T09:51:07.283915",
     "status": "completed"
    },
    "tags": []
   },
   "source": [
    "# ---Supplier Analysis---"
   ]
  },
  {
   "cell_type": "markdown",
   "id": "a95be466",
   "metadata": {
    "papermill": {
     "duration": 0.013809,
     "end_time": "2025-09-27T09:51:07.325376",
     "exception": false,
     "start_time": "2025-09-27T09:51:07.311567",
     "status": "completed"
    },
    "tags": []
   },
   "source": [
    "# -----Avg. lead time per supplier.-----"
   ]
  },
  {
   "cell_type": "code",
   "execution_count": 23,
   "id": "cd6c00bb",
   "metadata": {
    "execution": {
     "iopub.execute_input": "2025-09-27T09:51:07.355513Z",
     "iopub.status.busy": "2025-09-27T09:51:07.354438Z",
     "iopub.status.idle": "2025-09-27T09:51:07.551928Z",
     "shell.execute_reply": "2025-09-27T09:51:07.550934Z"
    },
    "papermill": {
     "duration": 0.213933,
     "end_time": "2025-09-27T09:51:07.553484",
     "exception": false,
     "start_time": "2025-09-27T09:51:07.339551",
     "status": "completed"
    },
    "tags": []
   },
   "outputs": [
    {
     "data": {
      "text/html": [
       "<div>\n",
       "<style scoped>\n",
       "    .dataframe tbody tr th:only-of-type {\n",
       "        vertical-align: middle;\n",
       "    }\n",
       "\n",
       "    .dataframe tbody tr th {\n",
       "        vertical-align: top;\n",
       "    }\n",
       "\n",
       "    .dataframe thead th {\n",
       "        text-align: right;\n",
       "    }\n",
       "</style>\n",
       "<table border=\"1\" class=\"dataframe\">\n",
       "  <thead>\n",
       "    <tr style=\"text-align: right;\">\n",
       "      <th></th>\n",
       "      <th>Supplier name</th>\n",
       "      <th>Lead time</th>\n",
       "    </tr>\n",
       "  </thead>\n",
       "  <tbody>\n",
       "    <tr>\n",
       "      <th>0</th>\n",
       "      <td>Supplier 1</td>\n",
       "      <td>14.777778</td>\n",
       "    </tr>\n",
       "    <tr>\n",
       "      <th>1</th>\n",
       "      <td>Supplier 2</td>\n",
       "      <td>18.545455</td>\n",
       "    </tr>\n",
       "    <tr>\n",
       "      <th>2</th>\n",
       "      <td>Supplier 3</td>\n",
       "      <td>20.133333</td>\n",
       "    </tr>\n",
       "    <tr>\n",
       "      <th>3</th>\n",
       "      <td>Supplier 4</td>\n",
       "      <td>15.222222</td>\n",
       "    </tr>\n",
       "    <tr>\n",
       "      <th>4</th>\n",
       "      <td>Supplier 5</td>\n",
       "      <td>18.055556</td>\n",
       "    </tr>\n",
       "  </tbody>\n",
       "</table>\n",
       "</div>"
      ],
      "text/plain": [
       "  Supplier name  Lead time\n",
       "0    Supplier 1  14.777778\n",
       "1    Supplier 2  18.545455\n",
       "2    Supplier 3  20.133333\n",
       "3    Supplier 4  15.222222\n",
       "4    Supplier 5  18.055556"
      ]
     },
     "metadata": {},
     "output_type": "display_data"
    },
    {
     "data": {
      "image/png": "[encoded data removed]",
      "text/plain": [
       "<Figure size 700x700 with 1 Axes>"
      ]
     },
     "metadata": {},
     "output_type": "display_data"
    }
   ],
   "source": [
    "average_lead_time = df.groupby('Supplier name')['Lead time'].mean().reset_index()\n",
    "display(average_lead_time)\n",
    "\n",
    "plt.figure(figsize=(7,7))\n",
    "sns.barplot(x='Supplier name', y='Lead time', data=average_lead_time, palette='viridis')\n",
    "\n",
    "plt.title('Average Lead Time per Supplier', fontsize=14)\n",
    "plt.xlabel('Supplier Name')\n",
    "plt.ylabel('Average Lead Time (days)')\n",
    "plt.xticks(rotation=45)\n",
    "plt.show()\n"
   ]
  },
  {
   "cell_type": "code",
   "execution_count": 24,
   "id": "221d320b",
   "metadata": {
    "execution": {
     "iopub.execute_input": "2025-09-27T09:51:07.584247Z",
     "iopub.status.busy": "2025-09-27T09:51:07.583929Z",
     "iopub.status.idle": "2025-09-27T09:51:07.590012Z",
     "shell.execute_reply": "2025-09-27T09:51:07.589215Z"
    },
    "papermill": {
     "duration": 0.023222,
     "end_time": "2025-09-27T09:51:07.591420",
     "exception": false,
     "start_time": "2025-09-27T09:51:07.568198",
     "status": "completed"
    },
    "tags": []
   },
   "outputs": [
    {
     "data": {
      "text/plain": [
       "Index(['Product type', 'SKU', 'Price', 'Availability',\n",
       "       'Number of products sold', 'Revenue generated', 'Customer demographics',\n",
       "       'Stock levels', 'Supplier_lead_time', 'Order quantities',\n",
       "       'Shipping times', 'Shipping carriers', 'Shipping costs',\n",
       "       'Supplier name', 'Location', 'Lead time', 'Production volumes',\n",
       "       'Manufacturing lead time', 'Manufacturing costs', 'Inspection results',\n",
       "       'Defect rates', 'Transportation modes', 'Routes',\n",
       "       'Transportation_costs', 'PriceDistribution',\n",
       "       'Customer_cluster_revenue'],\n",
       "      dtype='object')"
      ]
     },
     "execution_count": 24,
     "metadata": {},
     "output_type": "execute_result"
    }
   ],
   "source": [
    "df.columns"
   ]
  },
  {
   "cell_type": "markdown",
   "id": "64104267",
   "metadata": {
    "papermill": {
     "duration": 0.015478,
     "end_time": "2025-09-27T09:51:07.621667",
     "exception": false,
     "start_time": "2025-09-27T09:51:07.606189",
     "status": "completed"
    },
    "tags": []
   },
   "source": [
    "# -----Cost vs defect rates trade-off.-----"
   ]
  },
  {
   "cell_type": "code",
   "execution_count": 25,
   "id": "6cc9929c",
   "metadata": {
    "execution": {
     "iopub.execute_input": "2025-09-27T09:51:07.656116Z",
     "iopub.status.busy": "2025-09-27T09:51:07.655801Z",
     "iopub.status.idle": "2025-09-27T09:51:08.101146Z",
     "shell.execute_reply": "2025-09-27T09:51:08.100294Z"
    },
    "papermill": {
     "duration": 0.464722,
     "end_time": "2025-09-27T09:51:08.102567",
     "exception": false,
     "start_time": "2025-09-27T09:51:07.637845",
     "status": "completed"
    },
    "tags": []
   },
   "outputs": [
    {
     "name": "stderr",
     "output_type": "stream",
     "text": [
      "/usr/local/lib/python3.11/dist-packages/seaborn/axisgrid.py:118: UserWarning: The figure layout has changed to tight\n",
      "  self._figure.tight_layout(*args, **kwargs)\n"
     ]
    },
    {
     "data": {
      "image/png": "[encoded data removed]",
      "text/plain": [
       "<Figure size 720x600 with 1 Axes>"
      ]
     },
     "metadata": {},
     "output_type": "display_data"
    }
   ],
   "source": [
    "sns.lmplot(\n",
    "    x='Manufacturing costs',\n",
    "    y='Defect rates',\n",
    "    data=df,\n",
    "    height=6,\n",
    "    aspect=1.2,\n",
    "    scatter_kws={'s':60, 'alpha':0.7},\n",
    "    line_kws={'color':'red'}\n",
    ")\n",
    "plt.title(\"Cost vs Defect Rates with Trendline\")\n",
    "plt.show()"
   ]
  },
  {
   "cell_type": "code",
   "execution_count": 26,
   "id": "a09ed46a",
   "metadata": {
    "execution": {
     "iopub.execute_input": "2025-09-27T09:51:08.135010Z",
     "iopub.status.busy": "2025-09-27T09:51:08.134692Z",
     "iopub.status.idle": "2025-09-27T09:51:08.440890Z",
     "shell.execute_reply": "2025-09-27T09:51:08.440075Z"
    },
    "papermill": {
     "duration": 0.32443,
     "end_time": "2025-09-27T09:51:08.442686",
     "exception": false,
     "start_time": "2025-09-27T09:51:08.118256",
     "status": "completed"
    },
    "tags": []
   },
   "outputs": [
    {
     "name": "stdout",
     "output_type": "stream",
     "text": [
      "Defect_rate_cluster\n",
      "Medium Defects    50\n",
      "Low Defects       25\n",
      "High Defects      25\n",
      "Name: count, dtype: int64\n"
     ]
    },
    {
     "name": "stderr",
     "output_type": "stream",
     "text": [
      "/tmp/ipykernel_13/2317819910.py:16: FutureWarning: The default of observed=False is deprecated and will be changed to True in a future version of pandas. Pass observed=False to retain current behavior or observed=True to adopt the future default and silence this warning.\n",
      "  manufacturing_cost_defect_total=df.groupby('Defect_rate_cluster')['Manufacturing costs'].sum().reset_index()\n"
     ]
    },
    {
     "data": {
      "text/html": [
       "<div>\n",
       "<style scoped>\n",
       "    .dataframe tbody tr th:only-of-type {\n",
       "        vertical-align: middle;\n",
       "    }\n",
       "\n",
       "    .dataframe tbody tr th {\n",
       "        vertical-align: top;\n",
       "    }\n",
       "\n",
       "    .dataframe thead th {\n",
       "        text-align: right;\n",
       "    }\n",
       "</style>\n",
       "<table border=\"1\" class=\"dataframe\">\n",
       "  <thead>\n",
       "    <tr style=\"text-align: right;\">\n",
       "      <th></th>\n",
       "      <th>Defect_rate_cluster</th>\n",
       "      <th>Manufacturing costs</th>\n",
       "    </tr>\n",
       "  </thead>\n",
       "  <tbody>\n",
       "    <tr>\n",
       "      <th>0</th>\n",
       "      <td>Low Defects</td>\n",
       "      <td>1079.184138</td>\n",
       "    </tr>\n",
       "    <tr>\n",
       "      <th>1</th>\n",
       "      <td>Medium Defects</td>\n",
       "      <td>2471.844913</td>\n",
       "    </tr>\n",
       "    <tr>\n",
       "      <th>2</th>\n",
       "      <td>High Defects</td>\n",
       "      <td>1175.640273</td>\n",
       "    </tr>\n",
       "  </tbody>\n",
       "</table>\n",
       "</div>"
      ],
      "text/plain": [
       "  Defect_rate_cluster  Manufacturing costs\n",
       "0         Low Defects          1079.184138\n",
       "1      Medium Defects          2471.844913\n",
       "2        High Defects          1175.640273"
      ]
     },
     "metadata": {},
     "output_type": "display_data"
    },
    {
     "name": "stderr",
     "output_type": "stream",
     "text": [
      "/tmp/ipykernel_13/2317819910.py:18: FutureWarning: The default of observed=False is deprecated and will be changed to True in a future version of pandas. Pass observed=False to retain current behavior or observed=True to adopt the future default and silence this warning.\n",
      "  manufacturing_cost_defect_efficency=df.groupby('Defect_rate_cluster')['Manufacturing costs'].mean().reset_index()\n"
     ]
    },
    {
     "data": {
      "text/html": [
       "<div>\n",
       "<style scoped>\n",
       "    .dataframe tbody tr th:only-of-type {\n",
       "        vertical-align: middle;\n",
       "    }\n",
       "\n",
       "    .dataframe tbody tr th {\n",
       "        vertical-align: top;\n",
       "    }\n",
       "\n",
       "    .dataframe thead th {\n",
       "        text-align: right;\n",
       "    }\n",
       "</style>\n",
       "<table border=\"1\" class=\"dataframe\">\n",
       "  <thead>\n",
       "    <tr style=\"text-align: right;\">\n",
       "      <th></th>\n",
       "      <th>Defect_rate_cluster</th>\n",
       "      <th>Manufacturing costs</th>\n",
       "    </tr>\n",
       "  </thead>\n",
       "  <tbody>\n",
       "    <tr>\n",
       "      <th>0</th>\n",
       "      <td>Low Defects</td>\n",
       "      <td>43.167366</td>\n",
       "    </tr>\n",
       "    <tr>\n",
       "      <th>1</th>\n",
       "      <td>Medium Defects</td>\n",
       "      <td>49.436898</td>\n",
       "    </tr>\n",
       "    <tr>\n",
       "      <th>2</th>\n",
       "      <td>High Defects</td>\n",
       "      <td>47.025611</td>\n",
       "    </tr>\n",
       "  </tbody>\n",
       "</table>\n",
       "</div>"
      ],
      "text/plain": [
       "  Defect_rate_cluster  Manufacturing costs\n",
       "0         Low Defects            43.167366\n",
       "1      Medium Defects            49.436898\n",
       "2        High Defects            47.025611"
      ]
     },
     "metadata": {},
     "output_type": "display_data"
    },
    {
     "name": "stderr",
     "output_type": "stream",
     "text": [
      "/usr/local/lib/python3.11/dist-packages/seaborn/categorical.py:641: FutureWarning: The default of observed=False is deprecated and will be changed to True in a future version of pandas. Pass observed=False to retain current behavior or observed=True to adopt the future default and silence this warning.\n",
      "  grouped_vals = vals.groupby(grouper)\n",
      "/usr/local/lib/python3.11/dist-packages/seaborn/categorical.py:641: FutureWarning: The default of observed=False is deprecated and will be changed to True in a future version of pandas. Pass observed=False to retain current behavior or observed=True to adopt the future default and silence this warning.\n",
      "  grouped_vals = vals.groupby(grouper)\n"
     ]
    },
    {
     "data": {
      "image/png": "[encoded data removed]",
      "text/plain": [
       "<Figure size 1400x600 with 2 Axes>"
      ]
     },
     "metadata": {},
     "output_type": "display_data"
    }
   ],
   "source": [
    "low=df['Defect rates'].quantile(0.25)\n",
    "high=df['Defect rates'].quantile(0.75)\n",
    "\n",
    "bins = [0, low, high, df['Defect rates'].max()] \n",
    "labels=['Low Defects', 'Medium Defects', 'High Defects']\n",
    "\n",
    "df['Defect_rate_cluster']=pd.cut(\n",
    "    df['Defect rates'],\n",
    "    bins=bins,\n",
    "    labels=labels,\n",
    "    include_lowest=True\n",
    ")\n",
    "\n",
    "print(df['Defect_rate_cluster'].value_counts())\n",
    "\n",
    "manufacturing_cost_defect_total=df.groupby('Defect_rate_cluster')['Manufacturing costs'].sum().reset_index()\n",
    "display(manufacturing_cost_defect_total)\n",
    "manufacturing_cost_defect_efficency=df.groupby('Defect_rate_cluster')['Manufacturing costs'].mean().reset_index()\n",
    "\n",
    "display(manufacturing_cost_defect_efficency)\n",
    "\n",
    "\n",
    "#vissualisation\n",
    "fig, axes = plt.subplots(1, 2, figsize=(14,6))\n",
    "\n",
    "\n",
    "sns.barplot(x='Defect_rate_cluster', y='Manufacturing costs', data=manufacturing_cost_defect_total, ax=axes[0], palette=\"viridis\")\n",
    "axes[0].set_title(\"Total Manufacturing Cost by Defect Cluster\")\n",
    "\n",
    "\n",
    "sns.barplot(x='Defect_rate_cluster', y='Manufacturing costs', data=manufacturing_cost_defect_efficency, ax=axes[1], palette=\"magma\")\n",
    "axes[1].set_title(\"Average Manufacturing Cost (Efficiency) by Defect Cluster\")\n",
    "\n",
    "plt.show()\n"
   ]
  },
  {
   "cell_type": "code",
   "execution_count": 27,
   "id": "711c6870",
   "metadata": {
    "execution": {
     "iopub.execute_input": "2025-09-27T09:51:08.479357Z",
     "iopub.status.busy": "2025-09-27T09:51:08.479047Z",
     "iopub.status.idle": "2025-09-27T09:51:08.502406Z",
     "shell.execute_reply": "2025-09-27T09:51:08.501483Z"
    },
    "papermill": {
     "duration": 0.043225,
     "end_time": "2025-09-27T09:51:08.504140",
     "exception": false,
     "start_time": "2025-09-27T09:51:08.460915",
     "status": "completed"
    },
    "tags": []
   },
   "outputs": [
    {
     "data": {
      "text/html": [
       "<div>\n",
       "<style scoped>\n",
       "    .dataframe tbody tr th:only-of-type {\n",
       "        vertical-align: middle;\n",
       "    }\n",
       "\n",
       "    .dataframe tbody tr th {\n",
       "        vertical-align: top;\n",
       "    }\n",
       "\n",
       "    .dataframe thead th {\n",
       "        text-align: right;\n",
       "    }\n",
       "</style>\n",
       "<table border=\"1\" class=\"dataframe\">\n",
       "  <thead>\n",
       "    <tr style=\"text-align: right;\">\n",
       "      <th></th>\n",
       "      <th>Product type</th>\n",
       "      <th>SKU</th>\n",
       "      <th>Price</th>\n",
       "      <th>Availability</th>\n",
       "      <th>Number of products sold</th>\n",
       "      <th>Revenue generated</th>\n",
       "      <th>Customer demographics</th>\n",
       "      <th>Stock levels</th>\n",
       "      <th>Supplier_lead_time</th>\n",
       "      <th>Order quantities</th>\n",
       "      <th>...</th>\n",
       "      <th>Manufacturing lead time</th>\n",
       "      <th>Manufacturing costs</th>\n",
       "      <th>Inspection results</th>\n",
       "      <th>Defect rates</th>\n",
       "      <th>Transportation modes</th>\n",
       "      <th>Routes</th>\n",
       "      <th>Transportation_costs</th>\n",
       "      <th>PriceDistribution</th>\n",
       "      <th>Customer_cluster_revenue</th>\n",
       "      <th>Defect_rate_cluster</th>\n",
       "    </tr>\n",
       "  </thead>\n",
       "  <tbody>\n",
       "    <tr>\n",
       "      <th>0</th>\n",
       "      <td>haircare</td>\n",
       "      <td>SKU0</td>\n",
       "      <td>69.808006</td>\n",
       "      <td>55</td>\n",
       "      <td>802</td>\n",
       "      <td>8661.996792</td>\n",
       "      <td>Non-binary</td>\n",
       "      <td>58</td>\n",
       "      <td>7</td>\n",
       "      <td>96</td>\n",
       "      <td>...</td>\n",
       "      <td>29</td>\n",
       "      <td>46.279879</td>\n",
       "      <td>Pending</td>\n",
       "      <td>0.226410</td>\n",
       "      <td>Road</td>\n",
       "      <td>Route B</td>\n",
       "      <td>187.752075</td>\n",
       "      <td>(19.598, 77.198]</td>\n",
       "      <td>High Value Cluster</td>\n",
       "      <td>Low Defects</td>\n",
       "    </tr>\n",
       "    <tr>\n",
       "      <th>1</th>\n",
       "      <td>skincare</td>\n",
       "      <td>SKU1</td>\n",
       "      <td>14.843523</td>\n",
       "      <td>95</td>\n",
       "      <td>736</td>\n",
       "      <td>7460.900065</td>\n",
       "      <td>Female</td>\n",
       "      <td>53</td>\n",
       "      <td>30</td>\n",
       "      <td>37</td>\n",
       "      <td>...</td>\n",
       "      <td>30</td>\n",
       "      <td>33.616769</td>\n",
       "      <td>Pending</td>\n",
       "      <td>4.854068</td>\n",
       "      <td>Road</td>\n",
       "      <td>Route B</td>\n",
       "      <td>503.065579</td>\n",
       "      <td>(0.0, 19.598]</td>\n",
       "      <td>Medium Value Cluster</td>\n",
       "      <td>High Defects</td>\n",
       "    </tr>\n",
       "    <tr>\n",
       "      <th>2</th>\n",
       "      <td>haircare</td>\n",
       "      <td>SKU2</td>\n",
       "      <td>11.319683</td>\n",
       "      <td>34</td>\n",
       "      <td>8</td>\n",
       "      <td>9577.749626</td>\n",
       "      <td>Unknown</td>\n",
       "      <td>1</td>\n",
       "      <td>10</td>\n",
       "      <td>88</td>\n",
       "      <td>...</td>\n",
       "      <td>27</td>\n",
       "      <td>30.688019</td>\n",
       "      <td>Pending</td>\n",
       "      <td>4.580593</td>\n",
       "      <td>Air</td>\n",
       "      <td>Route C</td>\n",
       "      <td>141.920282</td>\n",
       "      <td>(0.0, 19.598]</td>\n",
       "      <td>High Value Cluster</td>\n",
       "      <td>High Defects</td>\n",
       "    </tr>\n",
       "    <tr>\n",
       "      <th>3</th>\n",
       "      <td>skincare</td>\n",
       "      <td>SKU3</td>\n",
       "      <td>61.163343</td>\n",
       "      <td>68</td>\n",
       "      <td>83</td>\n",
       "      <td>7766.836426</td>\n",
       "      <td>Non-binary</td>\n",
       "      <td>23</td>\n",
       "      <td>13</td>\n",
       "      <td>59</td>\n",
       "      <td>...</td>\n",
       "      <td>18</td>\n",
       "      <td>35.624741</td>\n",
       "      <td>Fail</td>\n",
       "      <td>4.746649</td>\n",
       "      <td>Rail</td>\n",
       "      <td>Route A</td>\n",
       "      <td>254.776159</td>\n",
       "      <td>(19.598, 77.198]</td>\n",
       "      <td>Medium Value Cluster</td>\n",
       "      <td>High Defects</td>\n",
       "    </tr>\n",
       "    <tr>\n",
       "      <th>4</th>\n",
       "      <td>skincare</td>\n",
       "      <td>SKU4</td>\n",
       "      <td>4.805496</td>\n",
       "      <td>26</td>\n",
       "      <td>871</td>\n",
       "      <td>2686.505152</td>\n",
       "      <td>Non-binary</td>\n",
       "      <td>5</td>\n",
       "      <td>3</td>\n",
       "      <td>56</td>\n",
       "      <td>...</td>\n",
       "      <td>3</td>\n",
       "      <td>92.065161</td>\n",
       "      <td>Fail</td>\n",
       "      <td>3.145580</td>\n",
       "      <td>Air</td>\n",
       "      <td>Route A</td>\n",
       "      <td>923.440632</td>\n",
       "      <td>(0.0, 19.598]</td>\n",
       "      <td>Low Value Cluster</td>\n",
       "      <td>Medium Defects</td>\n",
       "    </tr>\n",
       "  </tbody>\n",
       "</table>\n",
       "<p>5 rows × 27 columns</p>\n",
       "</div>"
      ],
      "text/plain": [
       "  Product type   SKU      Price  Availability  Number of products sold  \\\n",
       "0     haircare  SKU0  69.808006            55                      802   \n",
       "1     skincare  SKU1  14.843523            95                      736   \n",
       "2     haircare  SKU2  11.319683            34                        8   \n",
       "3     skincare  SKU3  61.163343            68                       83   \n",
       "4     skincare  SKU4   4.805496            26                      871   \n",
       "\n",
       "   Revenue generated Customer demographics  Stock levels  Supplier_lead_time  \\\n",
       "0        8661.996792            Non-binary            58                   7   \n",
       "1        7460.900065                Female            53                  30   \n",
       "2        9577.749626               Unknown             1                  10   \n",
       "3        7766.836426            Non-binary            23                  13   \n",
       "4        2686.505152            Non-binary             5                   3   \n",
       "\n",
       "   Order quantities  ...  Manufacturing lead time Manufacturing costs  \\\n",
       "0                96  ...                       29           46.279879   \n",
       "1                37  ...                       30           33.616769   \n",
       "2                88  ...                       27           30.688019   \n",
       "3                59  ...                       18           35.624741   \n",
       "4                56  ...                        3           92.065161   \n",
       "\n",
       "   Inspection results Defect rates Transportation modes   Routes  \\\n",
       "0             Pending     0.226410                 Road  Route B   \n",
       "1             Pending     4.854068                 Road  Route B   \n",
       "2             Pending     4.580593                  Air  Route C   \n",
       "3                Fail     4.746649                 Rail  Route A   \n",
       "4                Fail     3.145580                  Air  Route A   \n",
       "\n",
       "   Transportation_costs  PriceDistribution  Customer_cluster_revenue  \\\n",
       "0            187.752075   (19.598, 77.198]        High Value Cluster   \n",
       "1            503.065579      (0.0, 19.598]      Medium Value Cluster   \n",
       "2            141.920282      (0.0, 19.598]        High Value Cluster   \n",
       "3            254.776159   (19.598, 77.198]      Medium Value Cluster   \n",
       "4            923.440632      (0.0, 19.598]         Low Value Cluster   \n",
       "\n",
       "  Defect_rate_cluster  \n",
       "0         Low Defects  \n",
       "1        High Defects  \n",
       "2        High Defects  \n",
       "3        High Defects  \n",
       "4      Medium Defects  \n",
       "\n",
       "[5 rows x 27 columns]"
      ]
     },
     "execution_count": 27,
     "metadata": {},
     "output_type": "execute_result"
    }
   ],
   "source": [
    "df.head()"
   ]
  },
  {
   "cell_type": "markdown",
   "id": "070d34ec",
   "metadata": {
    "papermill": {
     "duration": 0.017483,
     "end_time": "2025-09-27T09:51:08.538971",
     "exception": false,
     "start_time": "2025-09-27T09:51:08.521488",
     "status": "completed"
    },
    "tags": []
   },
   "source": [
    "# ---Logistics Analysis---"
   ]
  },
  {
   "cell_type": "markdown",
   "id": "d96dd271",
   "metadata": {
    "papermill": {
     "duration": 0.018193,
     "end_time": "2025-09-27T09:51:08.574914",
     "exception": false,
     "start_time": "2025-09-27T09:51:08.556721",
     "status": "completed"
    },
    "tags": []
   },
   "source": [
    "# -----Avg. shipping times & costs by carrier.-----"
   ]
  },
  {
   "cell_type": "code",
   "execution_count": 28,
   "id": "dca3f065",
   "metadata": {
    "execution": {
     "iopub.execute_input": "2025-09-27T09:51:08.612726Z",
     "iopub.status.busy": "2025-09-27T09:51:08.612354Z",
     "iopub.status.idle": "2025-09-27T09:51:08.972444Z",
     "shell.execute_reply": "2025-09-27T09:51:08.971485Z"
    },
    "papermill": {
     "duration": 0.381343,
     "end_time": "2025-09-27T09:51:08.974189",
     "exception": false,
     "start_time": "2025-09-27T09:51:08.592846",
     "status": "completed"
    },
    "tags": []
   },
   "outputs": [
    {
     "data": {
      "text/html": [
       "<div>\n",
       "<style scoped>\n",
       "    .dataframe tbody tr th:only-of-type {\n",
       "        vertical-align: middle;\n",
       "    }\n",
       "\n",
       "    .dataframe tbody tr th {\n",
       "        vertical-align: top;\n",
       "    }\n",
       "\n",
       "    .dataframe thead th {\n",
       "        text-align: right;\n",
       "    }\n",
       "</style>\n",
       "<table border=\"1\" class=\"dataframe\">\n",
       "  <thead>\n",
       "    <tr style=\"text-align: right;\">\n",
       "      <th></th>\n",
       "      <th>Shipping carriers</th>\n",
       "      <th>Shipping times</th>\n",
       "      <th>Shipping costs</th>\n",
       "    </tr>\n",
       "  </thead>\n",
       "  <tbody>\n",
       "    <tr>\n",
       "      <th>0</th>\n",
       "      <td>Carrier A</td>\n",
       "      <td>6.142857</td>\n",
       "      <td>5.554923</td>\n",
       "    </tr>\n",
       "    <tr>\n",
       "      <th>1</th>\n",
       "      <td>Carrier B</td>\n",
       "      <td>5.302326</td>\n",
       "      <td>5.509247</td>\n",
       "    </tr>\n",
       "    <tr>\n",
       "      <th>2</th>\n",
       "      <td>Carrier C</td>\n",
       "      <td>6.034483</td>\n",
       "      <td>5.599292</td>\n",
       "    </tr>\n",
       "  </tbody>\n",
       "</table>\n",
       "</div>"
      ],
      "text/plain": [
       "  Shipping carriers  Shipping times  Shipping costs\n",
       "0         Carrier A        6.142857        5.554923\n",
       "1         Carrier B        5.302326        5.509247\n",
       "2         Carrier C        6.034483        5.599292"
      ]
     },
     "metadata": {},
     "output_type": "display_data"
    },
    {
     "data": {
      "image/png": "[encoded data removed]",
      "text/plain": [
       "<Figure size 1200x500 with 2 Axes>"
      ]
     },
     "metadata": {},
     "output_type": "display_data"
    }
   ],
   "source": [
    "shipping_stats=df.groupby('Shipping carriers').agg({\n",
    "    'Shipping times':'mean',\n",
    "    'Shipping costs':'mean'\n",
    "}).reset_index()\n",
    "\n",
    "display(shipping_stats)\n",
    "plt.figure(figsize=(12,5))\n",
    "plt.subplot(1,2,1)\n",
    "sns.barplot(x='Shipping carriers', y='Shipping times', data=shipping_stats, color='skyblue')\n",
    "plt.title(\"Avg. Shipping Time by Carrier\")\n",
    "plt.ylabel(\"Days\")\n",
    "\n",
    "plt.subplot(1,2,2)\n",
    "sns.barplot(x='Shipping carriers', y='Shipping costs', data=shipping_stats, color='red')\n",
    "plt.title(\"Avg. Shipping Cost by Carrier\")\n",
    "plt.ylabel(\"Cost\")\n",
    "\n",
    "plt.tight_layout()\n",
    "plt.show()"
   ]
  },
  {
   "cell_type": "markdown",
   "id": "fba675ae",
   "metadata": {
    "papermill": {
     "duration": 0.017693,
     "end_time": "2025-09-27T09:51:09.009561",
     "exception": false,
     "start_time": "2025-09-27T09:51:08.991868",
     "status": "completed"
    },
    "tags": []
   },
   "source": [
    "# -----Most used transportation modes.-----"
   ]
  },
  {
   "cell_type": "code",
   "execution_count": 29,
   "id": "c4edaec0",
   "metadata": {
    "execution": {
     "iopub.execute_input": "2025-09-27T09:51:09.047455Z",
     "iopub.status.busy": "2025-09-27T09:51:09.047161Z",
     "iopub.status.idle": "2025-09-27T09:51:09.202958Z",
     "shell.execute_reply": "2025-09-27T09:51:09.201875Z"
    },
    "papermill": {
     "duration": 0.176967,
     "end_time": "2025-09-27T09:51:09.204913",
     "exception": false,
     "start_time": "2025-09-27T09:51:09.027946",
     "status": "completed"
    },
    "tags": []
   },
   "outputs": [
    {
     "data": {
      "text/plain": [
       "Transportation modes\n",
       "Road    29\n",
       "Rail    28\n",
       "Air     26\n",
       "Sea     17\n",
       "Name: count, dtype: int64"
      ]
     },
     "metadata": {},
     "output_type": "display_data"
    },
    {
     "data": {
      "image/png": "[encoded data removed]",
      "text/plain": [
       "<Figure size 500x500 with 1 Axes>"
      ]
     },
     "metadata": {},
     "output_type": "display_data"
    }
   ],
   "source": [
    "display(df['Transportation modes'].value_counts())\n",
    "\n",
    "plt.figure(figsize=(5,5))\n",
    "sns.countplot(x='Transportation modes',data=df)\n",
    "plt.xlabel('Transport mode')\n",
    "plt.ylabel('Transport Frequency')\n",
    "plt.title('Most Used Transpotation')\n",
    "plt.show()"
   ]
  },
  {
   "cell_type": "markdown",
   "id": "77de4d4f",
   "metadata": {
    "papermill": {
     "duration": 0.018473,
     "end_time": "2025-09-27T09:51:09.242722",
     "exception": false,
     "start_time": "2025-09-27T09:51:09.224249",
     "status": "completed"
    },
    "tags": []
   },
   "source": [
    "# -----Route-wise cost efficiency.-----"
   ]
  },
  {
   "cell_type": "code",
   "execution_count": 30,
   "id": "dbf46262",
   "metadata": {
    "execution": {
     "iopub.execute_input": "2025-09-27T09:51:09.281532Z",
     "iopub.status.busy": "2025-09-27T09:51:09.280584Z",
     "iopub.status.idle": "2025-09-27T09:51:09.439219Z",
     "shell.execute_reply": "2025-09-27T09:51:09.438015Z"
    },
    "papermill": {
     "duration": 0.179476,
     "end_time": "2025-09-27T09:51:09.440783",
     "exception": false,
     "start_time": "2025-09-27T09:51:09.261307",
     "status": "completed"
    },
    "tags": []
   },
   "outputs": [
    {
     "data": {
      "text/html": [
       "<div>\n",
       "<style scoped>\n",
       "    .dataframe tbody tr th:only-of-type {\n",
       "        vertical-align: middle;\n",
       "    }\n",
       "\n",
       "    .dataframe tbody tr th {\n",
       "        vertical-align: top;\n",
       "    }\n",
       "\n",
       "    .dataframe thead th {\n",
       "        text-align: right;\n",
       "    }\n",
       "</style>\n",
       "<table border=\"1\" class=\"dataframe\">\n",
       "  <thead>\n",
       "    <tr style=\"text-align: right;\">\n",
       "      <th></th>\n",
       "      <th>Routes</th>\n",
       "      <th>Transportation_costs</th>\n",
       "    </tr>\n",
       "  </thead>\n",
       "  <tbody>\n",
       "    <tr>\n",
       "      <th>0</th>\n",
       "      <td>Route A</td>\n",
       "      <td>485.483128</td>\n",
       "    </tr>\n",
       "    <tr>\n",
       "      <th>1</th>\n",
       "      <td>Route B</td>\n",
       "      <td>595.659028</td>\n",
       "    </tr>\n",
       "    <tr>\n",
       "      <th>2</th>\n",
       "      <td>Route C</td>\n",
       "      <td>500.470985</td>\n",
       "    </tr>\n",
       "  </tbody>\n",
       "</table>\n",
       "</div>"
      ],
      "text/plain": [
       "    Routes  Transportation_costs\n",
       "0  Route A            485.483128\n",
       "1  Route B            595.659028\n",
       "2  Route C            500.470985"
      ]
     },
     "metadata": {},
     "output_type": "display_data"
    },
    {
     "data": {
      "image/png": "[encoded data removed]",
      "text/plain": [
       "<Figure size 500x500 with 1 Axes>"
      ]
     },
     "metadata": {},
     "output_type": "display_data"
    }
   ],
   "source": [
    "Route_wise_cost=df.groupby('Routes').agg({\n",
    "    'Transportation_costs':'mean'\n",
    "}).reset_index()\n",
    "display(Route_wise_cost)\n",
    "\n",
    "plt.figure(figsize=(5,5))\n",
    "sns.barplot(x='Routes',y='Transportation_costs',data=Route_wise_cost)\n",
    "plt.title(\"Route wise cost efficency\")\n",
    "plt.xlabel('Routes')\n",
    "plt.ylabel('Cost Effenceny')\n",
    "plt.xticks(rotation=45)\n",
    "plt.show()"
   ]
  },
  {
   "cell_type": "markdown",
   "id": "f76f30f9",
   "metadata": {
    "papermill": {
     "duration": 0.018352,
     "end_time": "2025-09-27T09:51:09.477811",
     "exception": false,
     "start_time": "2025-09-27T09:51:09.459459",
     "status": "completed"
    },
    "tags": []
   },
   "source": [
    "# 4. Diagnostic Analytics (Root Cause Analysis)"
   ]
  },
  {
   "cell_type": "markdown",
   "id": "bc87478d",
   "metadata": {
    "papermill": {
     "duration": 0.018537,
     "end_time": "2025-09-27T09:51:09.514763",
     "exception": false,
     "start_time": "2025-09-27T09:51:09.496226",
     "status": "completed"
    },
    "tags": []
   },
   "source": [
    "# --Inventory Bottlenecks--"
   ]
  },
  {
   "cell_type": "markdown",
   "id": "4151b492",
   "metadata": {
    "papermill": {
     "duration": 0.018671,
     "end_time": "2025-09-27T09:51:09.552035",
     "exception": false,
     "start_time": "2025-09-27T09:51:09.533364",
     "status": "completed"
    },
    "tags": []
   },
   "source": [
    "# -----Correlate Stock levels with Lead times-----"
   ]
  },
  {
   "cell_type": "code",
   "execution_count": 31,
   "id": "1ecabd43",
   "metadata": {
    "execution": {
     "iopub.execute_input": "2025-09-27T09:51:09.591238Z",
     "iopub.status.busy": "2025-09-27T09:51:09.590833Z",
     "iopub.status.idle": "2025-09-27T09:51:10.184143Z",
     "shell.execute_reply": "2025-09-27T09:51:10.183092Z"
    },
    "papermill": {
     "duration": 0.614852,
     "end_time": "2025-09-27T09:51:10.185817",
     "exception": false,
     "start_time": "2025-09-27T09:51:09.570965",
     "status": "completed"
    },
    "tags": []
   },
   "outputs": [
    {
     "data": {
      "image/png": "[encoded data removed]",
      "text/plain": [
       "<Figure size 400x400 with 1 Axes>"
      ]
     },
     "metadata": {},
     "output_type": "display_data"
    },
    {
     "name": "stdout",
     "output_type": "stream",
     "text": [
      "0.06787991523660455\n"
     ]
    },
    {
     "data": {
      "image/png": "[encoded data removed]",
      "text/plain": [
       "<Figure size 800x600 with 1 Axes>"
      ]
     },
     "metadata": {},
     "output_type": "display_data"
    }
   ],
   "source": [
    "plt.figure(figsize=(4,4))\n",
    "sns.scatterplot(x='Lead time', y='Stock levels', data =df, hue='Supplier name')\n",
    "plt.xlabel('suppliers lead time (days)')\n",
    "plt.ylabel('stock level')\n",
    "plt.title('stoct level vs lead time')\n",
    "\n",
    "# thresholds\n",
    "plt.axvline(x=df['Lead time'].median(), color='red', linestyle='--')\n",
    "plt.axhline(y=df['Stock levels'].median(), color='blue', linestyle='--')\n",
    "plt.show()\n",
    "\n",
    "correlation=df['Lead time'].corr(df['Stock levels'])\n",
    "print(correlation)\n",
    "\n",
    "\n",
    "#COUNTING EACH VALUE IN IN EACH QUADERANT\n",
    "lead_thresehold=df['Lead time'].median()\n",
    "stock_thresehold=df['Stock levels'].median()\n",
    "\n",
    "def quaderent_find(row):\n",
    "    if row['Lead time'] <= lead_thresehold and row['Stock levels'] >= stock_thresehold:\n",
    "        return 'Q1 . Best'\n",
    "    elif row['Lead time'] > lead_thresehold and row['Stock levels'] >= stock_thresehold:\n",
    "        return 'Q2 :Coustly'\n",
    "    elif row['Lead time'] <= lead_thresehold and row['Stock levels'] <= stock_thresehold:\n",
    "        return 'Q3: Risky '\n",
    "        \n",
    "    else:\n",
    "        return 'Q4 : Wrost'\n",
    "\n",
    "df['quaderent_find']=df.apply(quaderent_find, axis=1)\n",
    "\n",
    "quaderent_summary=df.groupby(['Supplier name','quaderent_find']).size().reset_index(name='count')\n",
    "\n",
    "\n",
    "plt.figure(figsize=(8,6))\n",
    "sns.barplot(\n",
    "    x='Supplier name',\n",
    "    y='count',\n",
    "    hue='quaderent_find',\n",
    "    data=quaderent_summary\n",
    ")\n",
    "plt.title(\"Supplier-wise Quadrant Distribution\")\n",
    "plt.ylabel(\"Number of Observations\")\n",
    "plt.show()"
   ]
  },
  {
   "cell_type": "markdown",
   "id": "0f791aac",
   "metadata": {
    "papermill": {
     "duration": 0.020475,
     "end_time": "2025-09-27T09:51:10.228502",
     "exception": false,
     "start_time": "2025-09-27T09:51:10.208027",
     "status": "completed"
    },
    "tags": []
   },
   "source": [
    "# --Supplier Reliability--"
   ]
  },
  {
   "cell_type": "markdown",
   "id": "41e06cad",
   "metadata": {
    "papermill": {
     "duration": 0.020037,
     "end_time": "2025-09-27T09:51:10.268959",
     "exception": false,
     "start_time": "2025-09-27T09:51:10.248922",
     "status": "completed"
    },
    "tags": []
   },
   "source": [
    "# -----Lead times vs Defect rates.-----"
   ]
  },
  {
   "cell_type": "code",
   "execution_count": 32,
   "id": "63bf07a9",
   "metadata": {
    "execution": {
     "iopub.execute_input": "2025-09-27T09:51:10.311197Z",
     "iopub.status.busy": "2025-09-27T09:51:10.310889Z",
     "iopub.status.idle": "2025-09-27T09:51:10.921808Z",
     "shell.execute_reply": "2025-09-27T09:51:10.920673Z"
    },
    "papermill": {
     "duration": 0.634451,
     "end_time": "2025-09-27T09:51:10.923641",
     "exception": false,
     "start_time": "2025-09-27T09:51:10.289190",
     "status": "completed"
    },
    "tags": []
   },
   "outputs": [
    {
     "data": {
      "image/png": "[encoded data removed]",
      "text/plain": [
       "<Figure size 500x500 with 1 Axes>"
      ]
     },
     "metadata": {},
     "output_type": "display_data"
    },
    {
     "name": "stdout",
     "output_type": "stream",
     "text": [
      "   Supplier name defect_lead_quaderent  count\n",
      "0     Supplier 1           Q1 : Wrost       4\n",
      "1     Supplier 1             Q2: Risky      5\n",
      "2     Supplier 1              Q3: Best     12\n",
      "3     Supplier 1           Q4: coustly      6\n",
      "4     Supplier 2           Q1 : Wrost       8\n",
      "5     Supplier 2             Q2: Risky      3\n",
      "6     Supplier 2              Q3: Best      6\n",
      "7     Supplier 2           Q4: coustly      5\n",
      "8     Supplier 3           Q1 : Wrost       6\n",
      "9     Supplier 3             Q2: Risky      3\n",
      "10    Supplier 3              Q3: Best      4\n",
      "11    Supplier 3           Q4: coustly      2\n",
      "12    Supplier 4           Q1 : Wrost       5\n",
      "13    Supplier 4             Q2: Risky      6\n",
      "14    Supplier 4              Q3: Best      5\n",
      "15    Supplier 4           Q4: coustly      2\n",
      "16    Supplier 5           Q1 : Wrost       8\n",
      "17    Supplier 5             Q2: Risky      2\n",
      "18    Supplier 5              Q3: Best      6\n",
      "19    Supplier 5           Q4: coustly      2\n"
     ]
    },
    {
     "data": {
      "image/png": "[encoded data removed]",
      "text/plain": [
       "<Figure size 500x500 with 1 Axes>"
      ]
     },
     "metadata": {},
     "output_type": "display_data"
    }
   ],
   "source": [
    "plt.figure(figsize=(5,5))\n",
    "sns.scatterplot(x='Lead time', y='Defect rates', data=df, hue='Supplier name')\n",
    "plt.xlabel('Lead Time (Days)')\n",
    "plt.ylabel('Defect Rate')\n",
    "plt.title('lead time vs defect rate accourding to suppliers')\n",
    "plt.axvline(x=df['Lead time'].median(), color='red', linestyle='--')\n",
    "plt.axhline(y=df['Defect rates'].median(), color='blue', linestyle='--')\n",
    "plt.show()\n",
    "\n",
    "#thrasehold\n",
    "lead_thresehold=df['Lead time'].median()\n",
    "defect_thresehold=df['Defect rates'].median()\n",
    "\n",
    "def quaderent_defect_lead_find(row):\n",
    "    if row['Lead time']<= lead_thresehold and row['Defect rates']<= defect_thresehold:\n",
    "        return 'Q3: Best'\n",
    "\n",
    "    elif row['Lead time']<= lead_thresehold and row['Defect rates']>= defect_thresehold:\n",
    "        return 'Q2: Risky'\n",
    "    elif row['Lead time']> lead_thresehold and row['Defect rates']> defect_thresehold: \n",
    "        return 'Q1 : Wrost '\n",
    "    else:\n",
    "        return 'Q4: coustly'\n",
    "\n",
    "df['defect_lead_quaderent']=df.apply(quaderent_defect_lead_find, axis=1)\n",
    "\n",
    "defect_quaderent_summary=df.groupby(['Supplier name','defect_lead_quaderent']).size().reset_index(name='count')\n",
    "print(defect_quaderent_summary)\n",
    "\n",
    "plt.figure(figsize=(5,5))\n",
    "sns.barplot(x='Supplier name',y='count',hue='defect_lead_quaderent', data=defect_quaderent_summary)\n",
    "plt.xlabel('Name of Suppliers')\n",
    "plt.ylabel('Observation count')\n",
    "plt.title('Supplier wise dec=fect count ')\n",
    "plt.show()"
   ]
  },
  {
   "cell_type": "markdown",
   "id": "1fd638e1",
   "metadata": {
    "papermill": {
     "duration": 0.024332,
     "end_time": "2025-09-27T09:51:10.972220",
     "exception": false,
     "start_time": "2025-09-27T09:51:10.947888",
     "status": "completed"
    },
    "tags": []
   },
   "source": [
    "# -----Supplier risk scoring.-----"
   ]
  },
  {
   "cell_type": "code",
   "execution_count": null,
   "id": "97cd22cc",
   "metadata": {
    "papermill": {
     "duration": 0.023162,
     "end_time": "2025-09-27T09:51:11.019850",
     "exception": false,
     "start_time": "2025-09-27T09:51:10.996688",
     "status": "completed"
    },
    "tags": []
   },
   "outputs": [],
   "source": []
  },
  {
   "cell_type": "markdown",
   "id": "6b70491b",
   "metadata": {
    "papermill": {
     "duration": 0.024987,
     "end_time": "2025-09-27T09:51:11.072409",
     "exception": false,
     "start_time": "2025-09-27T09:51:11.047422",
     "status": "completed"
    },
    "tags": []
   },
   "source": [
    "# --Cost Drivers--"
   ]
  },
  {
   "cell_type": "markdown",
   "id": "e177aa1e",
   "metadata": {
    "papermill": {
     "duration": 0.021657,
     "end_time": "2025-09-27T09:51:11.115973",
     "exception": false,
     "start_time": "2025-09-27T09:51:11.094316",
     "status": "completed"
    },
    "tags": []
   },
   "source": [
    "# -----Decompose Revenue generated – Manufacturing costs – Shipping costs → margin analysis.------"
   ]
  },
  {
   "cell_type": "code",
   "execution_count": 33,
   "id": "06bb079e",
   "metadata": {
    "execution": {
     "iopub.execute_input": "2025-09-27T09:51:11.160691Z",
     "iopub.status.busy": "2025-09-27T09:51:11.160325Z",
     "iopub.status.idle": "2025-09-27T09:51:11.166555Z",
     "shell.execute_reply": "2025-09-27T09:51:11.165636Z"
    },
    "papermill": {
     "duration": 0.03072,
     "end_time": "2025-09-27T09:51:11.168336",
     "exception": false,
     "start_time": "2025-09-27T09:51:11.137616",
     "status": "completed"
    },
    "tags": []
   },
   "outputs": [
    {
     "data": {
      "text/plain": [
       "Index(['Product type', 'SKU', 'Price', 'Availability',\n",
       "       'Number of products sold', 'Revenue generated', 'Customer demographics',\n",
       "       'Stock levels', 'Supplier_lead_time', 'Order quantities',\n",
       "       'Shipping times', 'Shipping carriers', 'Shipping costs',\n",
       "       'Supplier name', 'Location', 'Lead time', 'Production volumes',\n",
       "       'Manufacturing lead time', 'Manufacturing costs', 'Inspection results',\n",
       "       'Defect rates', 'Transportation modes', 'Routes',\n",
       "       'Transportation_costs', 'PriceDistribution', 'Customer_cluster_revenue',\n",
       "       'Defect_rate_cluster', 'quaderent_find', 'defect_lead_quaderent'],\n",
       "      dtype='object')"
      ]
     },
     "execution_count": 33,
     "metadata": {},
     "output_type": "execute_result"
    }
   ],
   "source": [
    "df.columns"
   ]
  },
  {
   "cell_type": "code",
   "execution_count": null,
   "id": "d9f0bb25",
   "metadata": {
    "papermill": {
     "duration": 0.023239,
     "end_time": "2025-09-27T09:51:11.214065",
     "exception": false,
     "start_time": "2025-09-27T09:51:11.190826",
     "status": "completed"
    },
    "tags": []
   },
   "outputs": [],
   "source": []
  }
 ],
 "metadata": {
  "kaggle": {
   "accelerator": "none",
   "dataSources": [
    {
     "datasetId": 3169086,
     "sourceId": 5490896,
     "sourceType": "datasetVersion"
    }
   ],
   "dockerImageVersionId": 31089,
   "isGpuEnabled": false,
   "isInternetEnabled": true,
   "language": "python",
   "sourceType": "notebook"
  },
  "kernelspec": {
   "display_name": "Python 3",
   "language": "python",
   "name": "python3"
  },
  "language_info": {
   "codemirror_mode": {
    "name": "ipython",
    "version": 3
   },
   "file_extension": ".py",
   "mimetype": "text/x-python",
   "name": "python",
   "nbconvert_exporter": "python",
   "pygments_lexer": "ipython3",
   "version": "3.11.13"
  },
  "papermill": {
   "default_parameters": {},
   "duration": 17.215156,
   "end_time": "2025-09-27T09:51:12.058358",
   "environment_variables": {},
   "exception": null,
   "input_path": "__notebook__.ipynb",
   "output_path": "__notebook__.ipynb",
   "parameters": {},
   "start_time": "2025-09-27T09:50:54.843202",
   "version": "2.6.0"
  }
 },
 "nbformat": 4,
 "nbformat_minor": 5
}
